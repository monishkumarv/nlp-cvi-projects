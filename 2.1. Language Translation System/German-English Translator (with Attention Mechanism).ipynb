{
 "cells": [
  {
   "cell_type": "markdown",
   "metadata": {},
   "source": [
    "## German-English Translator: Using Seq2seq modelling with Attention Mechanism"
   ]
  },
  {
   "cell_type": "code",
   "execution_count": 1,
   "metadata": {},
   "outputs": [],
   "source": [
    "import pandas as pd\n",
    "import numpy as np\n",
    "import matplotlib.pyplot as plt\n",
    "import seaborn as sns\n",
    "import warnings\n",
    "warnings.filterwarnings(\"ignore\")\n",
    "\n",
    "import random\n",
    "random.seed(42)\n",
    "\n",
    "pd.set_option('display.max_colwidth', 200)"
   ]
  },
  {
   "cell_type": "markdown",
   "metadata": {},
   "source": [
    "## Loading Data:"
   ]
  },
  {
   "cell_type": "code",
   "execution_count": 2,
   "metadata": {},
   "outputs": [],
   "source": [
    "def load_data(filepath):\n",
    "    ifile = open(filepath, mode='rt', encoding='utf-8')\n",
    "    data = ifile.read()\n",
    "    ifile.close()\n",
    "    \n",
    "    data = data.split('\\n')\n",
    "    data = [ i.split('\\t') for i in data ]\n",
    "    data = [ [i[0],i[1]] for i in data ]\n",
    "    \n",
    "    return data"
   ]
  },
  {
   "cell_type": "code",
   "execution_count": 3,
   "metadata": {},
   "outputs": [],
   "source": [
    "eng_germ = load_data('./datasets/german-eng-translation.txt')\n",
    "eng_germ = pd.DataFrame(eng_germ, columns=['english','german'])\n",
    "\n",
    "eng_germ = eng_germ.iloc[:50000]"
   ]
  },
  {
   "cell_type": "markdown",
   "metadata": {},
   "source": [
    "## Text Cleaning and Preprocessing:"
   ]
  },
  {
   "cell_type": "code",
   "execution_count": 8,
   "metadata": {},
   "outputs": [],
   "source": [
    "import unicodedata\n",
    "import re\n",
    "\n",
    "# Converts the unicode file to ascii\n",
    "def unicode_to_ascii(s):\n",
    "    return ''.join(c for c in unicodedata.normalize('NFD', s)\n",
    "        if unicodedata.category(c) != 'Mn')\n",
    "\n",
    "\n",
    "def preprocess_sentence(line):\n",
    "    line = unicode_to_ascii(line.lower().strip())\n",
    "\n",
    "    # creating a space between a word and the punctuation following it\n",
    "    # eg: \"he is a boy.\" => \"he is a boy .\"\n",
    "    line = re.sub(r\"([?.!,¿])\", r\" \\1 \", line)\n",
    "    line = re.sub(r'[\" \"]+', \" \", line)\n",
    "\n",
    "    # replacing everything with space except (a-z, A-Z, \".\", \"?\", \"!\", \",\")\n",
    "    line = re.sub(r\"[^a-zA-Z?.!,¿]+\", \" \",line)\n",
    "\n",
    "    # The strip() method removes any leading (spaces at the beginning) and trailing (spaces at the end) \n",
    "    # characters (space is the default leading character to remove)\n",
    "    line = line.strip()\n",
    "\n",
    "    return line"
   ]
  },
  {
   "cell_type": "code",
   "execution_count": 9,
   "metadata": {},
   "outputs": [
    {
     "data": {
      "text/plain": [
       "Text(0.5, 1.0, 'Max sentence length (German): 18')"
      ]
     },
     "execution_count": 9,
     "metadata": {},
     "output_type": "execute_result"
    },
    {
     "data": {
      "image/png": "[encoded data removed]",
      "text/plain": [
       "<Figure size 720x216 with 2 Axes>"
      ]
     },
     "metadata": {
      "needs_background": "light"
     },
     "output_type": "display_data"
    }
   ],
   "source": [
    "# Convert text to lowercase\n",
    "eng_germ['english'] = eng_germ['english'].apply(lambda x: preprocess_sentence(x))\n",
    "eng_germ['german'] = eng_germ['german'].apply(lambda x: preprocess_sentence(x))\n",
    "\n",
    "# Adding '<start>' and '<end>' tokens to target variable (English)\n",
    "eng_germ['english'] = eng_germ['english'].apply(lambda x: ('<BOS> ' + x + ' <EOS>'))\n",
    "\n",
    "# Visualising sentence lengths\n",
    "len_eng = eng_germ['english'].apply(lambda x: len(x.split()))\n",
    "len_germ = eng_germ['german'].apply(lambda x: len(x.split()))\n",
    "\n",
    "plt.figure(figsize=(10,3))\n",
    "plt.subplot(1,2,1)\n",
    "_ = plt.hist(len_eng, bins = 30)\n",
    "plt.title('Max sentence length (English): ' + str(max(len_eng)))\n",
    "plt.subplot(1,2,2)\n",
    "_ = plt.hist(len_germ, bins = 30)\n",
    "plt.title('Max sentence length (German): ' + str(max(len_germ)))"
   ]
  },
  {
   "cell_type": "markdown",
   "metadata": {},
   "source": [
    "## Tokenizing and Padding :"
   ]
  },
  {
   "cell_type": "code",
   "execution_count": 10,
   "metadata": {},
   "outputs": [
    {
     "name": "stderr",
     "output_type": "stream",
     "text": [
      "Using TensorFlow backend.\n"
     ]
    }
   ],
   "source": [
    "from keras.preprocessing.text import Tokenizer\n",
    "from keras.preprocessing.sequence import pad_sequences"
   ]
  },
  {
   "cell_type": "code",
   "execution_count": 11,
   "metadata": {},
   "outputs": [],
   "source": [
    "def tokenize(data):\n",
    "    tokenizer = Tokenizer(lower = False, split=' ')\n",
    "    tokenizer.fit_on_texts(data)\n",
    "    \n",
    "    tokenized_data = tokenizer.texts_to_sequences(data)\n",
    "    word_index = tokenizer.word_index\n",
    "    \n",
    "    return tokenized_data, word_index"
   ]
  },
  {
   "cell_type": "code",
   "execution_count": 12,
   "metadata": {},
   "outputs": [
    {
     "name": "stdout",
     "output_type": "stream",
     "text": [
      "English Vocabulary size: 6135\n",
      "German Vocabulary size: 10105\n"
     ]
    }
   ],
   "source": [
    "# Tokenization\n",
    "eng_data, eng_word_index = tokenize(eng_germ['english'])\n",
    "germ_data, germ_word_index = tokenize(eng_germ['german'])\n",
    "\n",
    "eng_word_index = {i: word for word, i in eng_word_index.items()}\n",
    "germ_word_index = {i: word for word, i in germ_word_index.items()}\n",
    "\n",
    "# (+1) is for padding - '0'\n",
    "eng_vocab_size = len(eng_word_index) + 1\n",
    "germ_vocab_size = len(germ_word_index) + 1\n",
    "\n",
    "print('English Vocabulary size:',eng_vocab_size)\n",
    "print('German Vocabulary size:',germ_vocab_size)"
   ]
  },
  {
   "cell_type": "code",
   "execution_count": 13,
   "metadata": {},
   "outputs": [],
   "source": [
    "# Padding\n",
    "eng_max_len = max(len_eng)\n",
    "germ_max_len = max(len_germ)\n",
    "\n",
    "# We use post pading because the model needs to know where (timestamp = 1) the sentece starts\n",
    "x = pad_sequences(germ_data, maxlen=germ_max_len, padding='post')\n",
    "y = pad_sequences(eng_data, maxlen=eng_max_len, padding='post')"
   ]
  },
  {
   "cell_type": "code",
   "execution_count": 14,
   "metadata": {},
   "outputs": [],
   "source": [
    "from sklearn.model_selection import train_test_split\n",
    "x_train, x_test, y_train, y_test = train_test_split(x, y, test_size=0.33, random_state=42)"
   ]
  },
  {
   "cell_type": "code",
   "execution_count": 15,
   "metadata": {},
   "outputs": [],
   "source": [
    "# Function which converts numbers back to words\n",
    "def convert_int2word(data):\n",
    "    \n",
    "    text = []\n",
    "    for line in data:\n",
    "        sentence = ' '.join([eng_word_index.get(i) for i in line if eng_word_index.get(i) is not None])\n",
    "        \n",
    "        sentence = ' '.join([i for i in sentence.split() if i != 'BOS'])\n",
    "        sentence = ' '.join([i for i in sentence.split() if i != 'EOS'])\n",
    "        \n",
    "        text.append(sentence)\n",
    "\n",
    "    return text"
   ]
  },
  {
   "cell_type": "markdown",
   "metadata": {},
   "source": [
    "# .................................................................................................................................\n",
    "# 1. Simple Model without Attention Mechanism:\n",
    "- Without Teacher Forcing method - The final hidden state of the encoder part is given as input to each cell of the decoder part (Using RepeatVector).\n",
    "- What is Teacher Forcing? - [(link)](https://machinelearningmastery.com/teacher-forcing-for-recurrent-neural-networks/)\n"
   ]
  },
  {
   "cell_type": "markdown",
   "metadata": {},
   "source": [
    "## 1.1. Training the model (without Teacher Forcing):"
   ]
  },
  {
   "cell_type": "code",
   "execution_count": 18,
   "metadata": {
    "scrolled": true
   },
   "outputs": [
    {
     "name": "stdout",
     "output_type": "stream",
     "text": [
      "Model: \"model_5\"\n",
      "__________________________________________________________________________________________________\n",
      "Layer (type)                    Output Shape         Param #     Connected to                     \n",
      "==================================================================================================\n",
      "encoder_input (InputLayer)      [(None, 15)]         0                                            \n",
      "__________________________________________________________________________________________________\n",
      "embedding_7 (Embedding)         (None, 15, 512)      5325312     encoder_input[0][0]              \n",
      "__________________________________________________________________________________________________\n",
      "encoder_lstm (LSTM)             [(None, 512), (None, 2099200     embedding_7[0][0]                \n",
      "__________________________________________________________________________________________________\n",
      "repeat_vector_1 (RepeatVector)  (None, 9, 512)       0           encoder_lstm[0][0]               \n",
      "__________________________________________________________________________________________________\n",
      "decoder_lstm (LSTM)             (None, 9, 512)       2099200     repeat_vector_1[0][0]            \n",
      "                                                                 encoder_lstm[0][1]               \n",
      "                                                                 encoder_lstm[0][2]               \n",
      "__________________________________________________________________________________________________\n",
      "output_dense_layer (Dense)      (None, 9, 6332)      3248316     decoder_lstm[0][0]               \n",
      "==================================================================================================\n",
      "Total params: 12,772,028\n",
      "Trainable params: 12,772,028\n",
      "Non-trainable params: 0\n",
      "__________________________________________________________________________________________________\n",
      "Train on 23361 samples, validate on 10012 samples\n",
      "Epoch 1/20\n",
      "23361/23361 [==============================] - 169s 7ms/sample - loss: 4.5299 - val_loss: 3.0261\n",
      "Epoch 2/20\n",
      "23361/23361 [==============================] - 161s 7ms/sample - loss: 2.8445 - val_loss: 2.7597\n",
      "Epoch 3/20\n",
      "23361/23361 [==============================] - 161s 7ms/sample - loss: 2.6773 - val_loss: 2.6752\n",
      "Epoch 4/20\n",
      "23361/23361 [==============================] - 162s 7ms/sample - loss: 2.5915 - val_loss: 2.6246\n",
      "Epoch 5/20\n",
      "23361/23361 [==============================] - 176s 8ms/sample - loss: 2.5298 - val_loss: 2.5672\n",
      "Epoch 6/20\n",
      "23361/23361 [==============================] - 166s 7ms/sample - loss: 2.4446 - val_loss: 2.4841\n",
      "Epoch 7/20\n",
      "23361/23361 [==============================] - 169s 7ms/sample - loss: 2.3487 - val_loss: 2.4122\n",
      "Epoch 8/20\n",
      "23361/23361 [==============================] - 167s 7ms/sample - loss: 2.2655 - val_loss: 2.3513\n",
      "Epoch 9/20\n",
      "23361/23361 [==============================] - 167s 7ms/sample - loss: 2.1944 - val_loss: 2.3106\n",
      "Epoch 10/20\n",
      "23361/23361 [==============================] - 165s 7ms/sample - loss: 2.1204 - val_loss: 2.2407\n",
      "Epoch 11/20\n",
      "23361/23361 [==============================] - 178s 8ms/sample - loss: 2.0441 - val_loss: 2.1830\n",
      "Epoch 12/20\n",
      "23361/23361 [==============================] - 175s 7ms/sample - loss: 1.9702 - val_loss: 2.1265\n",
      "Epoch 13/20\n",
      "23361/23361 [==============================] - 176s 8ms/sample - loss: 1.8926 - val_loss: 2.0700\n",
      "Epoch 14/20\n",
      "23361/23361 [==============================] - 175s 8ms/sample - loss: 1.8130 - val_loss: 2.0179\n",
      "Epoch 15/20\n",
      "23361/23361 [==============================] - 177s 8ms/sample - loss: 1.7467 - val_loss: 1.9707\n",
      "Epoch 16/20\n",
      "23361/23361 [==============================] - 176s 8ms/sample - loss: 1.6733 - val_loss: 1.9284\n",
      "Epoch 17/20\n",
      "23361/23361 [==============================] - 177s 8ms/sample - loss: 1.6094 - val_loss: 1.8903\n",
      "Epoch 18/20\n",
      "23361/23361 [==============================] - 178s 8ms/sample - loss: 1.5393 - val_loss: 1.8325\n",
      "Epoch 19/20\n",
      "23361/23361 [==============================] - 181s 8ms/sample - loss: 1.4698 - val_loss: 1.7902\n",
      "Epoch 20/20\n",
      "23361/23361 [==============================] - 179s 8ms/sample - loss: 1.4053 - val_loss: 1.7582\n",
      "\n",
      "Saved model weights to location: ./model weigths/SimpleNMTModel_weights1.hdf5 successfully!\n"
     ]
    }
   ],
   "source": [
    "# Used to reload python modules to apply new changes...\n",
    "from importlib import reload\n",
    "from models_seq2seq import simple_nmt_model\n",
    "reload(simple_nmt_model)\n",
    "\n",
    "from tensorflow.python.keras.callbacks import ModelCheckpoint\n",
    "from models_seq2seq.simple_nmt_model import SimpleNMTModel\n",
    "\n",
    "# Compiling the model\n",
    "model = SimpleNMTModel(germ_vocab_size, eng_vocab_size, germ_max_len, eng_max_len, 512, teacher_forcing = False)\n",
    "model.compile(optimizer='adam', loss='sparse_categorical_crossentropy', metrics = ['sparse_categorical_accuracy'])\n",
    "\n",
    "filepath = './model weigths/SimpleNMTModel_weights1.hdf5'\n",
    "checkpoint = ModelCheckpoint(filepath, monitor='val_loss', verbose=0, save_best_only=True, mode='min')\n",
    "model.summary() # Try to understand the summary by calculating \"No. of Params\" on your own.\n",
    "\n",
    "epochs = 20\n",
    "batch_size=512\n",
    "\n",
    "# Training the model\n",
    "history = model.fit(x = x_train, y = y_train.reshape(y_train.shape[0], y_train.shape[1], 1),\n",
    "                    epochs=epochs, batch_size=batch_size, validation_split = 0.3,\n",
    "                    callbacks=[checkpoint],\n",
    "                    verbose=1)\n",
    "print('\\nSaved model weights to location: ' + filepath + ' successfully!')\n",
    "\n",
    "# Predictions\n",
    "preds = model.predict(x_test)"
   ]
  },
  {
   "cell_type": "markdown",
   "metadata": {},
   "source": [
    "## 1.2. Training the model (with Teacher Forcing):"
   ]
  },
  {
   "cell_type": "markdown",
   "metadata": {},
   "source": [
    "### Sparse_categorical_crossentropy vs categorical_crossentropy: Loss functions in keras\n",
    "- If you use 'categorical_crossentropy' you use one hot encoding, and if you use 'sparse_categorical_crossentropy' you encode as normal integers (index of the particular one-hot value, i.e. the position of the '1' in the one-hot encoded vector). In our case we can use either (don't forget to modify the output appropriately)\n",
    "- But if this is a multi-label classification (i.e. one input may belong to more than one class), then you can only use categorical_crossentropy"
   ]
  },
  {
   "cell_type": "code",
   "execution_count": 19,
   "metadata": {
    "scrolled": true
   },
   "outputs": [
    {
     "name": "stdout",
     "output_type": "stream",
     "text": [
      "Model: \"model_6\"\n",
      "__________________________________________________________________________________________________\n",
      "Layer (type)                    Output Shape         Param #     Connected to                     \n",
      "==================================================================================================\n",
      "encoder_input (InputLayer)      [(None, 15)]         0                                            \n",
      "__________________________________________________________________________________________________\n",
      "decoder_input (InputLayer)      [(None, 8)]          0                                            \n",
      "__________________________________________________________________________________________________\n",
      "embedding_8 (Embedding)         (None, 15, 512)      5325312     encoder_input[0][0]              \n",
      "__________________________________________________________________________________________________\n",
      "embedding_9 (Embedding)         (None, 8, 512)       3241984     decoder_input[0][0]              \n",
      "__________________________________________________________________________________________________\n",
      "encoder_lstm (LSTM)             [(None, 512), (None, 2099200     embedding_8[0][0]                \n",
      "__________________________________________________________________________________________________\n",
      "decoder_lstm (LSTM)             (None, 8, 512)       2099200     embedding_9[0][0]                \n",
      "                                                                 encoder_lstm[0][1]               \n",
      "                                                                 encoder_lstm[0][2]               \n",
      "__________________________________________________________________________________________________\n",
      "output_dense_layer (Dense)      (None, 8, 6332)      3248316     decoder_lstm[0][0]               \n",
      "==================================================================================================\n",
      "Total params: 16,014,012\n",
      "Trainable params: 16,014,012\n",
      "Non-trainable params: 0\n",
      "__________________________________________________________________________________________________\n",
      "Train on 23361 samples, validate on 10012 samples\n",
      "Epoch 1/20\n",
      "23361/23361 [==============================] - 185s 8ms/sample - loss: 4.0830 - val_loss: 3.0916\n",
      "Epoch 2/20\n",
      "23361/23361 [==============================] - 159s 7ms/sample - loss: 2.8933 - val_loss: 2.7736\n",
      "Epoch 3/20\n",
      "23361/23361 [==============================] - 152s 7ms/sample - loss: 2.6716 - val_loss: 2.6101\n",
      "Epoch 4/20\n",
      "23361/23361 [==============================] - 156s 7ms/sample - loss: 2.4920 - val_loss: 2.4322\n",
      "Epoch 5/20\n",
      "23361/23361 [==============================] - 155s 7ms/sample - loss: 2.2920 - val_loss: 2.2706\n",
      "Epoch 6/20\n",
      "23361/23361 [==============================] - 156s 7ms/sample - loss: 2.1200 - val_loss: 2.1338\n",
      "Epoch 7/20\n",
      "23361/23361 [==============================] - 162s 7ms/sample - loss: 1.9665 - val_loss: 2.0119\n",
      "Epoch 8/20\n",
      "23361/23361 [==============================] - 160s 7ms/sample - loss: 1.8166 - val_loss: 1.8928\n",
      "Epoch 9/20\n",
      "23361/23361 [==============================] - 156s 7ms/sample - loss: 1.6718 - val_loss: 1.7846\n",
      "Epoch 10/20\n",
      "23361/23361 [==============================] - 159s 7ms/sample - loss: 1.5383 - val_loss: 1.6937\n",
      "Epoch 11/20\n",
      "23361/23361 [==============================] - 159s 7ms/sample - loss: 1.4107 - val_loss: 1.6070\n",
      "Epoch 12/20\n",
      "23361/23361 [==============================] - 158s 7ms/sample - loss: 1.2903 - val_loss: 1.5332\n",
      "Epoch 13/20\n",
      "23361/23361 [==============================] - 161s 7ms/sample - loss: 1.1776 - val_loss: 1.4627\n",
      "Epoch 14/20\n",
      "23361/23361 [==============================] - 158s 7ms/sample - loss: 1.0713 - val_loss: 1.4020\n",
      "Epoch 15/20\n",
      "23361/23361 [==============================] - 158s 7ms/sample - loss: 0.9706 - val_loss: 1.3460\n",
      "Epoch 16/20\n",
      "23361/23361 [==============================] - 160s 7ms/sample - loss: 0.8770 - val_loss: 1.2973\n",
      "Epoch 17/20\n",
      "23361/23361 [==============================] - 158s 7ms/sample - loss: 0.7893 - val_loss: 1.2540\n",
      "Epoch 18/20\n",
      "23361/23361 [==============================] - 158s 7ms/sample - loss: 0.7093 - val_loss: 1.2159\n",
      "Epoch 19/20\n",
      "23361/23361 [==============================] - 158s 7ms/sample - loss: 0.6339 - val_loss: 1.1803\n",
      "Epoch 20/20\n",
      "23361/23361 [==============================] - 160s 7ms/sample - loss: 0.5623 - val_loss: 1.1497\n",
      "\n",
      "Saved model weights to location: ./model weigths/SimpleNMTModel_weights2.hdf5 successfully!\n"
     ]
    }
   ],
   "source": [
    "# Used to reload python modules to apply new changes...\n",
    "from importlib import reload\n",
    "from models_seq2seq import simple_nmt_model\n",
    "reload(simple_nmt_model)\n",
    "\n",
    "from tensorflow.python.keras.callbacks import ModelCheckpoint\n",
    "from models_seq2seq.simple_nmt_model import SimpleNMTModel\n",
    "\n",
    "# Compiling the model\n",
    "model = SimpleNMTModel(germ_vocab_size, eng_vocab_size, germ_max_len, eng_max_len - 1, 512, teacher_forcing = True)\n",
    "model.compile(optimizer='adam', loss='sparse_categorical_crossentropy', metrics = ['sparse_categorical_accuracy'])\n",
    "\n",
    "filepath = './model weigths/SimpleNMTModel_weights2.hdf5'\n",
    "checkpoint = ModelCheckpoint(filepath, monitor='val_loss', verbose=0, save_best_only=True, mode='min')\n",
    "model.summary() # Try to understand the summary by calculating \"No. of Params\" on your own.\n",
    "\n",
    "epochs = 20\n",
    "batch_size=512\n",
    "\n",
    "# Assigning appropriate inputs and outputs\n",
    "training_encoder_input = x_train\n",
    "training_decoder_input = y_train[:,:-1]\n",
    "training_decoder_output = y_train[:,1:]\n",
    "\n",
    "history = model.fit(x = [training_encoder_input, training_decoder_input], y = [training_decoder_output],\n",
    "                    epochs=epochs, batch_size=batch_size, validation_split = 0.3,\n",
    "                    callbacks=[checkpoint],\n",
    "                    verbose=1)\n",
    "print('\\nSaved model weights to location: ' + filepath + ' successfully!')\n",
    "\n",
    "# Predictions\n",
    "test_encoder_input = x_test\n",
    "test_decoder_input = y_test[:,:-1]\n",
    "test_decoder_output = y_test[:,1:]\n",
    "\n",
    "preds = model.predict([test_encoder_input, test_decoder_input])"
   ]
  },
  {
   "cell_type": "markdown",
   "metadata": {},
   "source": [
    "# .................................................................................................................................\n",
    "# 3. Model using Luong's Attention Mechanism:"
   ]
  },
  {
   "cell_type": "markdown",
   "metadata": {},
   "source": [
    "### Sparse_categorical_crossentropy vs categorical_crossentropy: Loss functions in keras\n",
    "- If you use 'categorical_crossentropy' you use one hot encoding, and if you use 'sparse_categorical_crossentropy' you encode as normal integers (index of the particular one-hot value, i.e. the position of the '1' in the one-hot encoded vector). In our case we can use either (don't forget to modify the output appropriately)\n",
    "- But if this is a multi-label classification (i.e. one input may belong to more than one class), then you can only use categorical_crossentropy"
   ]
  },
  {
   "cell_type": "code",
   "execution_count": 21,
   "metadata": {
    "scrolled": true
   },
   "outputs": [
    {
     "name": "stdout",
     "output_type": "stream",
     "text": [
      "Model: \"model_8\"\n",
      "__________________________________________________________________________________________________\n",
      "Layer (type)                    Output Shape         Param #     Connected to                     \n",
      "==================================================================================================\n",
      "encoder_input (InputLayer)      [(None, 15)]         0                                            \n",
      "__________________________________________________________________________________________________\n",
      "decoder_input (InputLayer)      [(None, 8)]          0                                            \n",
      "__________________________________________________________________________________________________\n",
      "embedding_12 (Embedding)        (None, 15, 300)      3120300     encoder_input[0][0]              \n",
      "__________________________________________________________________________________________________\n",
      "embedding_13 (Embedding)        (None, 8, 300)       1899600     decoder_input[0][0]              \n",
      "__________________________________________________________________________________________________\n",
      "encoder_lstm (LSTM)             [(None, 15, 512), (N 1665024     embedding_12[0][0]               \n",
      "__________________________________________________________________________________________________\n",
      "decoder_lstm (LSTM)             (None, 8, 512)       1665024     embedding_13[0][0]               \n",
      "                                                                 encoder_lstm[0][1]               \n",
      "                                                                 encoder_lstm[0][2]               \n",
      "__________________________________________________________________________________________________\n",
      "dot_8 (Dot)                     (None, 8, 15)        0           decoder_lstm[0][0]               \n",
      "                                                                 encoder_lstm[0][0]               \n",
      "__________________________________________________________________________________________________\n",
      "attention_vector (Activation)   (None, 8, 15)        0           dot_8[0][0]                      \n",
      "__________________________________________________________________________________________________\n",
      "dot_9 (Dot)                     (None, 8, 512)       0           attention_vector[0][0]           \n",
      "                                                                 encoder_lstm[0][0]               \n",
      "__________________________________________________________________________________________________\n",
      "concatenate_4 (Concatenate)     (None, 8, 1024)      0           dot_9[0][0]                      \n",
      "                                                                 decoder_lstm[0][0]               \n",
      "__________________________________________________________________________________________________\n",
      "time_distributed_4 (TimeDistrib (None, 8, 512)       524800      concatenate_4[0][0]              \n",
      "__________________________________________________________________________________________________\n",
      "output_dense_layer (Dense)      (None, 8, 6332)      3248316     time_distributed_4[0][0]         \n",
      "==================================================================================================\n",
      "Total params: 12,123,064\n",
      "Trainable params: 12,123,064\n",
      "Non-trainable params: 0\n",
      "__________________________________________________________________________________________________\n",
      "Train on 23361 samples, validate on 10012 samples\n",
      "Epoch 1/20\n",
      "23361/23361 [==============================] - 156s 7ms/sample - loss: 3.9893 - val_loss: 3.1328\n",
      "Epoch 2/20\n",
      "23361/23361 [==============================] - 151s 6ms/sample - loss: 2.9469 - val_loss: 2.8160\n",
      "Epoch 3/20\n",
      "23361/23361 [==============================] - 151s 6ms/sample - loss: 2.7401 - val_loss: 2.7341\n",
      "Epoch 4/20\n",
      "23361/23361 [==============================] - 151s 6ms/sample - loss: 2.6308 - val_loss: 2.6179\n",
      "Epoch 5/20\n",
      "23361/23361 [==============================] - 147s 6ms/sample - loss: 2.4660 - val_loss: 2.4340\n",
      "Epoch 6/20\n",
      "23361/23361 [==============================] - 148s 6ms/sample - loss: 2.2906 - val_loss: 2.2967\n",
      "Epoch 7/20\n",
      "23361/23361 [==============================] - 151s 6ms/sample - loss: 2.1387 - val_loss: 2.1902\n",
      "Epoch 8/20\n",
      "23361/23361 [==============================] - 150s 6ms/sample - loss: 2.0026 - val_loss: 2.0805\n",
      "Epoch 9/20\n",
      "23361/23361 [==============================] - 150s 6ms/sample - loss: 1.8683 - val_loss: 1.9854\n",
      "Epoch 10/20\n",
      "23361/23361 [==============================] - 151s 6ms/sample - loss: 1.7404 - val_loss: 1.8853\n",
      "Epoch 11/20\n",
      "23361/23361 [==============================] - 148s 6ms/sample - loss: 1.6189 - val_loss: 1.8077\n",
      "Epoch 12/20\n",
      "23361/23361 [==============================] - 149s 6ms/sample - loss: 1.5021 - val_loss: 1.7255\n",
      "Epoch 13/20\n",
      "23361/23361 [==============================] - 151s 6ms/sample - loss: 1.3950 - val_loss: 1.6531\n",
      "Epoch 14/20\n",
      "23361/23361 [==============================] - 151s 6ms/sample - loss: 1.2902 - val_loss: 1.5902\n",
      "Epoch 15/20\n",
      "23361/23361 [==============================] - 159s 7ms/sample - loss: 1.1901 - val_loss: 1.5316\n",
      "Epoch 16/20\n",
      "23361/23361 [==============================] - 161s 7ms/sample - loss: 1.0908 - val_loss: 1.4766\n",
      "Epoch 17/20\n",
      "23361/23361 [==============================] - 162s 7ms/sample - loss: 0.9947 - val_loss: 1.4204\n",
      "Epoch 18/20\n",
      "23361/23361 [==============================] - 164s 7ms/sample - loss: 0.8980 - val_loss: 1.3636\n",
      "Epoch 19/20\n",
      "23361/23361 [==============================] - 163s 7ms/sample - loss: 0.8065 - val_loss: 1.3160\n",
      "Epoch 20/20\n",
      "23361/23361 [==============================] - 163s 7ms/sample - loss: 0.7219 - val_loss: 1.2737\n",
      "\n",
      "Saved model weights to location: ./model weigths/AttentionModel_weights.hdf5 successfully!\n"
     ]
    }
   ],
   "source": [
    "# Used to reload python modules to apply new changes...\n",
    "from importlib import reload\n",
    "from models_seq2seq import attention\n",
    "reload(attention)\n",
    "\n",
    "from tensorflow.python.keras.callbacks import ModelCheckpoint\n",
    "from models_seq2seq.attention import AttentionModel\n",
    "\n",
    "\n",
    "# Compilation - subtract '1' from eng_max_len coz only <BOS> (for decoder_input) or <EOS> (for decoder_output) is considered \n",
    "model = AttentionModel(germ_vocab_size, eng_vocab_size, germ_max_len, eng_max_len - 1, 512)\n",
    "model.compile(optimizer='adam', loss='sparse_categorical_crossentropy', metrics = ['sparse_categorical_accuracy'])\n",
    "\n",
    "filepath = './model weigths/AttentionModel_weights.hdf5'\n",
    "checkpoint = ModelCheckpoint(filepath, monitor='val_loss', verbose=0, save_best_only=True, mode='min')\n",
    "model.summary()\n",
    "\n",
    "epochs = 20\n",
    "batch_size=512\n",
    "\n",
    "# Assigning appropriate inputs and outputs\n",
    "training_encoder_input = x_train\n",
    "training_decoder_input = y_train[:,:-1]\n",
    "training_decoder_output = y_train[:,1:]\n",
    "\n",
    "# Training the model\n",
    "history = model.fit(x=[training_encoder_input, training_decoder_input], \n",
    "                    y=[training_decoder_output],\n",
    "                    epochs=epochs, batch_size=batch_size, validation_split = 0.3,\n",
    "                    callbacks=[checkpoint],\n",
    "                    verbose=1)\n",
    "\n",
    "print('\\nSaved model weights to location: ' + filepath + ' successfully!')"
   ]
  },
  {
   "cell_type": "markdown",
   "metadata": {},
   "source": [
    "# .................................................................................................................................\n",
    "# 4. Attention: WTF method"
   ]
  },
  {
   "cell_type": "markdown",
   "metadata": {},
   "source": [
    "### 4.1. Training Model:"
   ]
  },
  {
   "cell_type": "code",
   "execution_count": 23,
   "metadata": {},
   "outputs": [],
   "source": [
    "from tensorflow.python.keras.layers import Dense, LSTM, Embedding, Attention, AdditiveAttention, Concatenate, TimeDistributed, Dot, Activation\n",
    "from tensorflow.keras import Model, Input\n",
    "\n",
    "input_vocab_size = germ_vocab_size\n",
    "output_vocab_size = eng_vocab_size\n",
    "input_maxwords = germ_max_len\n",
    "output_maxwords = eng_max_len - 1\n",
    "hidden_units = 512\n",
    "\n",
    "embedding_size = 300\n",
    "    \n",
    "# Encoder input Embedding...\n",
    "encoder_input = Input(shape = (None,), name = 'encoder_input') \n",
    "encoder_embed_layer = Embedding(input_vocab_size, embedding_size, input_length=input_maxwords, mask_zero=True)\n",
    "encoder_embed_input = encoder_embed_layer(encoder_input)\n",
    "\n",
    "# Encoder part... \n",
    "encoder_lstm = LSTM(hidden_units, return_sequences=True, return_state=True, name='encoder_lstm')\n",
    "encoder_output, encoder_state_h, encoder_state_c = encoder_lstm(encoder_embed_input)\n",
    "encoder_state = [encoder_state_h, encoder_state_c]\n",
    "    \n",
    "# Decoder input Embedding - Teacher Forcing inputs instead of previous timestep's inputs...\n",
    "decoder_input = Input(shape = (None,), name = 'decoder_input') \n",
    "decoder_embed_layer = Embedding(output_vocab_size, embedding_size, input_length=output_maxwords, mask_zero=True)\n",
    "decoder_embed_input = decoder_embed_layer(decoder_input)\n",
    "\n",
    "# Decoder part... \n",
    "decoder_lstm = LSTM(hidden_units, return_sequences=True, return_state=True, name='decoder_lstm')\n",
    "decoder_output, _ , _ = decoder_lstm(decoder_embed_input, initial_state=encoder_state)\n",
    "    \n",
    "\n",
    "# Attention Layer...Luong's Attention Mechanism...\n",
    "attention_value_e = Dot(axes=[2, 2], name='attention_score_e')([decoder_output, encoder_output])  # using 'Dot product' -----> (1 of 3 available methods mentioned in Luong's paper)\n",
    "attention_weights = Activation('softmax', name='attention_vector')(attention_value_e)\n",
    "context_vector = Dot(axes=[2,1], name='context_vector')([attention_weights, encoder_output])    \n",
    "    \n",
    "# attention_layer = AdditiveAttention(name='attention_layer')\n",
    "# context_vector = attention_layer([decoder_output, encoder_output])\n",
    "\n",
    "concat_layer = Concatenate(axis=-1)\n",
    "decoder_combined_context = concat_layer([context_vector, decoder_output])\n",
    "\n",
    "\n",
    "time_dist_layer = TimeDistributed(Dense(hidden_units, activation=\"tanh\"))\n",
    "output = time_dist_layer(decoder_combined_context)\n",
    "    \n",
    "dense_layer = Dense(output_vocab_size, activation='softmax', name='output_dense_layer')\n",
    "decoder_pred = dense_layer(output)\n",
    "\n",
    "# Initializing Model...\n",
    "model = Model(inputs=[encoder_input, decoder_input], outputs=[decoder_pred])\n"
   ]
  },
  {
   "cell_type": "code",
   "execution_count": 24,
   "metadata": {
    "scrolled": true
   },
   "outputs": [
    {
     "name": "stdout",
     "output_type": "stream",
     "text": [
      "Model: \"model_1\"\n",
      "__________________________________________________________________________________________________\n",
      "Layer (type)                    Output Shape         Param #     Connected to                     \n",
      "==================================================================================================\n",
      "encoder_input (InputLayer)      [(None, None)]       0                                            \n",
      "__________________________________________________________________________________________________\n",
      "decoder_input (InputLayer)      [(None, None)]       0                                            \n",
      "__________________________________________________________________________________________________\n",
      "embedding_12 (Embedding)        (None, None, 300)    3031500     encoder_input[0][0]              \n",
      "__________________________________________________________________________________________________\n",
      "embedding_13 (Embedding)        (None, None, 300)    1840500     decoder_input[0][0]              \n",
      "__________________________________________________________________________________________________\n",
      "encoder_lstm (LSTM)             [(None, None, 512),  1665024     embedding_12[0][0]               \n",
      "__________________________________________________________________________________________________\n",
      "decoder_lstm (LSTM)             [(None, None, 512),  1665024     embedding_13[0][0]               \n",
      "                                                                 encoder_lstm[0][1]               \n",
      "                                                                 encoder_lstm[0][2]               \n",
      "__________________________________________________________________________________________________\n",
      "attention_score_e (Dot)         (None, None, None)   0           decoder_lstm[0][0]               \n",
      "                                                                 encoder_lstm[0][0]               \n",
      "__________________________________________________________________________________________________\n",
      "attention_vector (Activation)   (None, None, None)   0           attention_score_e[0][0]          \n",
      "__________________________________________________________________________________________________\n",
      "context_vector (Dot)            (None, None, 512)    0           attention_vector[0][0]           \n",
      "                                                                 encoder_lstm[0][0]               \n",
      "__________________________________________________________________________________________________\n",
      "concatenate_1 (Concatenate)     (None, None, 1024)   0           context_vector[0][0]             \n",
      "                                                                 decoder_lstm[0][0]               \n",
      "__________________________________________________________________________________________________\n",
      "time_distributed_1 (TimeDistrib (None, None, 512)    524800      concatenate_1[0][0]              \n",
      "__________________________________________________________________________________________________\n",
      "output_dense_layer (Dense)      (None, None, 6135)   3147255     time_distributed_1[0][0]         \n",
      "==================================================================================================\n",
      "Total params: 11,874,103\n",
      "Trainable params: 11,874,103\n",
      "Non-trainable params: 0\n",
      "__________________________________________________________________________________________________\n",
      "Train on 23450 samples, validate on 10050 samples\n",
      "Epoch 1/40\n",
      "23450/23450 [==============================] - 216s 9ms/sample - loss: 3.3146 - sparse_categorical_accuracy: 0.2108 - val_loss: 2.5789 - val_sparse_categorical_accuracy: 0.2885\n",
      "Epoch 2/40\n",
      "23450/23450 [==============================] - 211s 9ms/sample - loss: 2.4253 - sparse_categorical_accuracy: 0.3506 - val_loss: 2.3179 - val_sparse_categorical_accuracy: 0.3950\n",
      "Epoch 3/40\n",
      "23450/23450 [==============================] - 212s 9ms/sample - loss: 2.2381 - sparse_categorical_accuracy: 0.4107 - val_loss: 2.1988 - val_sparse_categorical_accuracy: 0.4318\n",
      "Epoch 4/40\n",
      "23450/23450 [==============================] - 210s 9ms/sample - loss: 2.1061 - sparse_categorical_accuracy: 0.4428 - val_loss: 2.0906 - val_sparse_categorical_accuracy: 0.4573\n",
      "Epoch 5/40\n",
      "23450/23450 [==============================] - 212s 9ms/sample - loss: 1.9885 - sparse_categorical_accuracy: 0.4695 - val_loss: 1.9875 - val_sparse_categorical_accuracy: 0.4787\n",
      "Epoch 6/40\n",
      "23450/23450 [==============================] - 612s 26ms/sample - loss: 1.8773 - sparse_categorical_accuracy: 0.4900 - val_loss: 1.8989 - val_sparse_categorical_accuracy: 0.4991\n",
      "Epoch 7/40\n",
      "23450/23450 [==============================] - 231s 10ms/sample - loss: 1.7669 - sparse_categorical_accuracy: 0.5127 - val_loss: 1.8088 - val_sparse_categorical_accuracy: 0.5174\n",
      "Epoch 8/40\n",
      "23450/23450 [==============================] - 235s 10ms/sample - loss: 1.6528 - sparse_categorical_accuracy: 0.5346 - val_loss: 1.7136 - val_sparse_categorical_accuracy: 0.5388\n",
      "Epoch 9/40\n",
      "23450/23450 [==============================] - 207s 9ms/sample - loss: 1.5419 - sparse_categorical_accuracy: 0.5570 - val_loss: 1.6250 - val_sparse_categorical_accuracy: 0.5586\n",
      "Epoch 10/40\n",
      "23450/23450 [==============================] - 172s 7ms/sample - loss: 1.4303 - sparse_categorical_accuracy: 0.5815 - val_loss: 1.5440 - val_sparse_categorical_accuracy: 0.5792\n",
      "Epoch 11/40\n",
      "23450/23450 [==============================] - 172s 7ms/sample - loss: 1.3261 - sparse_categorical_accuracy: 0.6040 - val_loss: 1.4729 - val_sparse_categorical_accuracy: 0.5948\n",
      "Epoch 12/40\n",
      "23450/23450 [==============================] - 184s 8ms/sample - loss: 1.2307 - sparse_categorical_accuracy: 0.6254 - val_loss: 1.4058 - val_sparse_categorical_accuracy: 0.6113\n",
      "Epoch 13/40\n",
      "23450/23450 [==============================] - 178s 8ms/sample - loss: 1.1398 - sparse_categorical_accuracy: 0.6448 - val_loss: 1.3507 - val_sparse_categorical_accuracy: 0.6214\n",
      "Epoch 14/40\n",
      "23450/23450 [==============================] - 177s 8ms/sample - loss: 1.0572 - sparse_categorical_accuracy: 0.6638 - val_loss: 1.2995 - val_sparse_categorical_accuracy: 0.6354\n",
      "Epoch 15/40\n",
      "23450/23450 [==============================] - 177s 8ms/sample - loss: 0.9763 - sparse_categorical_accuracy: 0.6812 - val_loss: 1.2456 - val_sparse_categorical_accuracy: 0.6472\n",
      "Epoch 16/40\n",
      "23450/23450 [==============================] - 177s 8ms/sample - loss: 0.8976 - sparse_categorical_accuracy: 0.7005 - val_loss: 1.2011 - val_sparse_categorical_accuracy: 0.6588\n",
      "Epoch 17/40\n",
      "23450/23450 [==============================] - 175s 7ms/sample - loss: 0.8215 - sparse_categorical_accuracy: 0.7199 - val_loss: 1.1583 - val_sparse_categorical_accuracy: 0.6690\n",
      "Epoch 18/40\n",
      "23450/23450 [==============================] - 174s 7ms/sample - loss: 0.7493 - sparse_categorical_accuracy: 0.7398 - val_loss: 1.1193 - val_sparse_categorical_accuracy: 0.6814\n",
      "Epoch 19/40\n",
      "23450/23450 [==============================] - 174s 7ms/sample - loss: 0.6774 - sparse_categorical_accuracy: 0.7602 - val_loss: 1.0775 - val_sparse_categorical_accuracy: 0.6924\n",
      "Epoch 20/40\n",
      "23450/23450 [==============================] - 175s 7ms/sample - loss: 0.6090 - sparse_categorical_accuracy: 0.7821 - val_loss: 1.0471 - val_sparse_categorical_accuracy: 0.7027\n",
      "Epoch 21/40\n",
      "23450/23450 [==============================] - 174s 7ms/sample - loss: 0.5466 - sparse_categorical_accuracy: 0.8028 - val_loss: 1.0191 - val_sparse_categorical_accuracy: 0.7112\n",
      "Epoch 22/40\n",
      "23450/23450 [==============================] - 173s 7ms/sample - loss: 0.4878 - sparse_categorical_accuracy: 0.8240 - val_loss: 0.9978 - val_sparse_categorical_accuracy: 0.7180\n",
      "Epoch 23/40\n",
      "23450/23450 [==============================] - 704s 30ms/sample - loss: 0.4349 - sparse_categorical_accuracy: 0.8434 - val_loss: 0.9741 - val_sparse_categorical_accuracy: 0.7285\n",
      "Epoch 24/40\n",
      "23450/23450 [==============================] - 203s 9ms/sample - loss: 0.3846 - sparse_categorical_accuracy: 0.8633 - val_loss: 0.9534 - val_sparse_categorical_accuracy: 0.7358\n",
      "Epoch 25/40\n",
      "23450/23450 [==============================] - 212s 9ms/sample - loss: 0.3407 - sparse_categorical_accuracy: 0.8800 - val_loss: 0.9424 - val_sparse_categorical_accuracy: 0.7396\n",
      "Epoch 26/40\n",
      "23450/23450 [==============================] - 210s 9ms/sample - loss: 0.3018 - sparse_categorical_accuracy: 0.8952 - val_loss: 0.9256 - val_sparse_categorical_accuracy: 0.7456\n",
      "Epoch 27/40\n",
      "23450/23450 [==============================] - 214s 9ms/sample - loss: 0.2686 - sparse_categorical_accuracy: 0.9066 - val_loss: 0.9237 - val_sparse_categorical_accuracy: 0.7474\n",
      "Epoch 28/40\n",
      "23450/23450 [==============================] - 211s 9ms/sample - loss: 0.2390 - sparse_categorical_accuracy: 0.9174 - val_loss: 0.9143 - val_sparse_categorical_accuracy: 0.7516\n",
      "Epoch 29/40\n",
      "23450/23450 [==============================] - 213s 9ms/sample - loss: 0.2124 - sparse_categorical_accuracy: 0.9269 - val_loss: 0.9148 - val_sparse_categorical_accuracy: 0.7513\n",
      "Epoch 30/40\n",
      "23450/23450 [==============================] - 212s 9ms/sample - loss: 0.1888 - sparse_categorical_accuracy: 0.9357 - val_loss: 0.9083 - val_sparse_categorical_accuracy: 0.7554\n",
      "Epoch 31/40\n",
      "23450/23450 [==============================] - 216s 9ms/sample - loss: 0.1692 - sparse_categorical_accuracy: 0.9423 - val_loss: 0.9056 - val_sparse_categorical_accuracy: 0.7577\n",
      "Epoch 32/40\n",
      "23450/23450 [==============================] - 229s 10ms/sample - loss: 0.1505 - sparse_categorical_accuracy: 0.9492 - val_loss: 0.9054 - val_sparse_categorical_accuracy: 0.7596\n",
      "Epoch 33/40\n",
      "23450/23450 [==============================] - 180s 8ms/sample - loss: 0.1367 - sparse_categorical_accuracy: 0.9535 - val_loss: 0.9040 - val_sparse_categorical_accuracy: 0.7607\n",
      "Epoch 34/40\n",
      "23450/23450 [==============================] - 179s 8ms/sample - loss: 0.1215 - sparse_categorical_accuracy: 0.9593 - val_loss: 0.9052 - val_sparse_categorical_accuracy: 0.7610\n",
      "Epoch 35/40\n",
      "23450/23450 [==============================] - 180s 8ms/sample - loss: 0.1094 - sparse_categorical_accuracy: 0.9637 - val_loss: 0.9082 - val_sparse_categorical_accuracy: 0.7623\n",
      "Epoch 36/40\n",
      "23450/23450 [==============================] - 181s 8ms/sample - loss: 0.0984 - sparse_categorical_accuracy: 0.9674 - val_loss: 0.9111 - val_sparse_categorical_accuracy: 0.7630\n",
      "Epoch 37/40\n",
      "23450/23450 [==============================] - 180s 8ms/sample - loss: 0.0907 - sparse_categorical_accuracy: 0.9696 - val_loss: 0.9167 - val_sparse_categorical_accuracy: 0.7641\n",
      "Epoch 38/40\n",
      "23450/23450 [==============================] - 180s 8ms/sample - loss: 0.0856 - sparse_categorical_accuracy: 0.9715 - val_loss: 0.9194 - val_sparse_categorical_accuracy: 0.7624\n",
      "Epoch 39/40\n",
      "23450/23450 [==============================] - 180s 8ms/sample - loss: 0.0773 - sparse_categorical_accuracy: 0.9739 - val_loss: 0.9174 - val_sparse_categorical_accuracy: 0.7648\n",
      "Epoch 40/40\n",
      "23450/23450 [==============================] - 181s 8ms/sample - loss: 0.0709 - sparse_categorical_accuracy: 0.9760 - val_loss: 0.9244 - val_sparse_categorical_accuracy: 0.7633\n"
     ]
    }
   ],
   "source": [
    "from tensorflow.python.keras.callbacks import ModelCheckpoint\n",
    "\n",
    "epochs = 40\n",
    "batch_size=512\n",
    "\n",
    "model.compile(optimizer='adam', loss='sparse_categorical_crossentropy', metrics = ['sparse_categorical_accuracy'])\n",
    "\n",
    "# Assigning appropriate inputs and outputs\n",
    "training_encoder_input = x_train\n",
    "training_decoder_input = y_train[:,:-1]\n",
    "training_decoder_output = y_train[:,1:]\n",
    "\n",
    "filepath = './model weigths/AttentionModel_weights_WTF_40epochs.hdf5'\n",
    "checkpoint = ModelCheckpoint(filepath, monitor='val_loss', verbose=0, save_best_only=True, mode='min')\n",
    "model.summary()\n",
    "\n",
    "# Training the model\n",
    "history = model.fit(x=[training_encoder_input, training_decoder_input], \n",
    "                    y=[training_decoder_output],\n",
    "                    epochs=epochs, batch_size=batch_size, validation_split = 0.3,\n",
    "                    callbacks=[checkpoint],\n",
    "                    verbose=1)"
   ]
  },
  {
   "cell_type": "markdown",
   "metadata": {},
   "source": [
    "### 4.2. Test Model:"
   ]
  },
  {
   "cell_type": "code",
   "execution_count": 25,
   "metadata": {},
   "outputs": [],
   "source": [
    "# Encoder during test time...\n",
    "encoder_model = Model(inputs = encoder_input, outputs = [encoder_output, encoder_state])\n",
    "\n",
    "# Decoder during test time\n",
    "decoder_embed_input_test = decoder_embed_layer(decoder_input)\n",
    "\n",
    "decoder_state_input_h = Input(shape=(None,)) # Note: shape - doesn't include no of training data\n",
    "decoder_state_input_c = Input(shape=(None,))\n",
    "decoder_input_state = [decoder_state_input_h, decoder_state_input_c]\n",
    "\n",
    "decoder_output, decoder_state_h, decoder_state_c = decoder_lstm(decoder_embed_input_test, initial_state=decoder_input_state)\n",
    "decoder_output_state = [decoder_state_h, decoder_state_c]\n",
    "\n",
    "decoder_model = Model(inputs = [decoder_input] + decoder_input_state, \n",
    "                     outputs = [decoder_output] + decoder_output_state)"
   ]
  },
  {
   "cell_type": "code",
   "execution_count": 26,
   "metadata": {},
   "outputs": [],
   "source": [
    "# Attention during test time\n",
    "\n",
    "att_decoder_output = Input(shape=(None,hidden_units))\n",
    "att_encoder_output = Input(shape=(None,hidden_units))   \n",
    "\n",
    "attention_value_e = Dot(axes=[2, 2], name='attention_score_e')([att_decoder_output, att_encoder_output])\n",
    "attention_weights = Activation('softmax', name='attention_vector')(attention_value_e)\n",
    "context_vector = Dot(axes=[2,1], name='context_vector')([attention_weights, att_encoder_output])    \n",
    "\n",
    "# context_vector = attention_layer([att_decoder_output, att_encoder_output])\n",
    "\n",
    "decoder_combined_context = concat_layer([context_vector, att_decoder_output])\n",
    "\n",
    "output = time_dist_layer(decoder_combined_context)    \n",
    "\n",
    "decoder_prediction = dense_layer(output)\n",
    "\n",
    "attention_model = Model(inputs = [att_decoder_output, att_encoder_output],\n",
    "                       outputs = [decoder_prediction, attention_weights])"
   ]
  },
  {
   "cell_type": "markdown",
   "metadata": {},
   "source": [
    "### 4.3. Decode the sequence:"
   ]
  },
  {
   "cell_type": "code",
   "execution_count": 40,
   "metadata": {},
   "outputs": [],
   "source": [
    "# decode sequence function here....\n",
    "def decode_sequence(input_seq):\n",
    "    \n",
    "    input_len = len(input_seq)\n",
    "    \n",
    "    encoder_output, encoder_state_h, encoder_state_c = encoder_model.predict(input_seq)\n",
    "    encoder_states = [encoder_state_h, encoder_state_c]\n",
    "    \n",
    "    target_seq = np.ones((input_len,1)) # index corresponding to BOS\n",
    "\n",
    "    decoded_sentence = [''] * input_len\n",
    "    attention_wts = []\n",
    "    max_len = eng_max_len - 1\n",
    "    attention_wts = np.array([])\n",
    "    \n",
    "    count = max_len\n",
    "    while count > 0:\n",
    "        \n",
    "        decoder_output, h, c = decoder_model.predict([target_seq] + encoder_states)\n",
    "                \n",
    "        output, attention_weights = attention_model.predict([decoder_output, encoder_output])        \n",
    "        attention_wts = np.hstack([attention_wts, attention_weights]) if attention_wts.size else attention_weights\n",
    "        sampled_token_index = np.argmax(output, axis = 2)\n",
    "\n",
    "        for i in range(input_len):\n",
    "            predicted_word = eng_word_index.get(sampled_token_index[i][0])\n",
    "            if predicted_word is not None:\n",
    "                decoded_sentence[i] += predicted_word + ' '\n",
    "                \n",
    "        target_seq = sampled_token_index\n",
    "        states_value = [h,c]\n",
    "        \n",
    "        count = count - 1\n",
    "        \n",
    "    return decoded_sentence, attention_wts\n"
   ]
  },
  {
   "cell_type": "markdown",
   "metadata": {},
   "source": [
    "### 4.4. Test prediction:"
   ]
  },
  {
   "cell_type": "code",
   "execution_count": 41,
   "metadata": {},
   "outputs": [
    {
     "name": "stdout",
     "output_type": "stream",
     "text": [
      "(10, 1) (10, 1)\n",
      "(10, 1) (10, 1)\n",
      "(10, 1) (10, 1)\n",
      "(10, 1) (10, 1)\n",
      "(10, 1) (10, 1)\n",
      "(10, 1) (10, 1)\n",
      "(10, 1) (10, 1)\n",
      "(10, 1) (10, 1)\n",
      "(10, 1) (10, 1)\n",
      "(10, 1) (10, 1)\n"
     ]
    }
   ],
   "source": [
    "test_encoder_input = x_test[:10]\n",
    "test_decoder_input = y_test[:,:-1][:10]\n",
    "test_decoder_output = y_test[:,1:][:10]\n",
    "\n",
    "decoded_sentence,attention_weights = decode_sequence(test_encoder_input)"
   ]
  },
  {
   "cell_type": "code",
   "execution_count": 38,
   "metadata": {},
   "outputs": [
    {
     "data": {
      "text/plain": [
       "(10, 10, 18)"
      ]
     },
     "execution_count": 38,
     "metadata": {},
     "output_type": "execute_result"
    }
   ],
   "source": [
    "attention_weights.shape"
   ]
  },
  {
   "cell_type": "code",
   "execution_count": 31,
   "metadata": {},
   "outputs": [
    {
     "name": "stdout",
     "output_type": "stream",
     "text": [
      "German: wer hat die apfel gestohlen <NONE> <NONE> <NONE> <NONE> <NONE> <NONE> <NONE> <NONE> <NONE> <NONE> <NONE> <NONE> <NONE>\n",
      "Actual: who stole the apples\n",
      "Predicted: who who who who who who who who who who \n"
     ]
    }
   ],
   "source": [
    "def germ_convert_int2word(data):\n",
    "        text = []\n",
    "        for line in data:\n",
    "            sentence = ' '.join([germ_word_index.get(i) if germ_word_index.get(i) is not None else '<NONE>' for i in line])\n",
    "            # sentence = ' '.join([i for i in sentence.split() if i != 'EOS'])\n",
    "            text.append(sentence)\n",
    "        return text\n",
    "    \n",
    "index = 5\n",
    "print('German:',germ_convert_int2word(test_encoder_input)[index])\n",
    "print('Actual:',convert_int2word(test_decoder_output)[index])\n",
    "print('Predicted:',decoded_sentence[index])"
   ]
  },
  {
   "cell_type": "code",
   "execution_count": 32,
   "metadata": {},
   "outputs": [
    {
     "data": {
      "text/plain": [
       "array([0.0000000e+00, 1.1665504e-33, 2.7060440e-21, 7.5876080e-14,\n",
       "       7.1428575e-02, 7.1428575e-02, 7.1428575e-02, 7.1428575e-02,\n",
       "       7.1428575e-02, 7.1428575e-02, 7.1428575e-02, 7.1428575e-02,\n",
       "       7.1428575e-02, 7.1428575e-02, 7.1428575e-02, 7.1428575e-02,\n",
       "       7.1428575e-02, 7.1428575e-02], dtype=float32)"
      ]
     },
     "execution_count": 32,
     "metadata": {},
     "output_type": "execute_result"
    }
   ],
   "source": [
    "attention_weights[index][5]"
   ]
  },
  {
   "cell_type": "code",
   "execution_count": 33,
   "metadata": {},
   "outputs": [
    {
     "data": {
      "text/plain": [
       "<matplotlib.axes._subplots.AxesSubplot at 0x2ca18003488>"
      ]
     },
     "execution_count": 33,
     "metadata": {},
     "output_type": "execute_result"
    },
    {
     "data": {
      "image/png": "[encoded data removed]",
      "text/plain": [
       "<Figure size 432x288 with 2 Axes>"
      ]
     },
     "metadata": {
      "needs_background": "light"
     },
     "output_type": "display_data"
    }
   ],
   "source": [
    "import seaborn as sns\n",
    "sns.heatmap((attention_weights[index]), linewidths = 0.25)"
   ]
  },
  {
   "cell_type": "code",
   "execution_count": 34,
   "metadata": {},
   "outputs": [
    {
     "data": {
      "text/plain": [
       "['get away',\n",
       " 'tom drives a truck',\n",
       " 'can i pay later',\n",
       " 'money cant buy life',\n",
       " 'tom wont be missed',\n",
       " 'tom is a very shy boy',\n",
       " 'i have to feed my cat',\n",
       " 'tom is very busy now',\n",
       " 'they were shocked',\n",
       " 'they said its ok']"
      ]
     },
     "execution_count": 34,
     "metadata": {},
     "output_type": "execute_result"
    }
   ],
   "source": [
    "convert_int2word(test_decoder_output)[:10]"
   ]
  },
  {
   "cell_type": "code",
   "execution_count": null,
   "metadata": {},
   "outputs": [],
   "source": []
  },
  {
   "cell_type": "markdown",
   "metadata": {},
   "source": [
    "# .................................................................................................................................\n",
    "## Loading already saved weights:"
   ]
  },
  {
   "cell_type": "code",
   "execution_count": 67,
   "metadata": {},
   "outputs": [
    {
     "name": "stdout",
     "output_type": "stream",
     "text": [
      "Created model and loaded weights from file\n",
      "Evaluation - ['loss']: 1.30\n"
     ]
    }
   ],
   "source": [
    "from models_seq2seq.attention import AttentionModel\n",
    "new_model = AttentionModel(germ_vocab_size, eng_vocab_size, germ_max_len, eng_max_len - 1, 512)\n",
    "\n",
    "# load weights\n",
    "new_model.load_weights('./model weigths/AttentionModel_weights.hdf5')\n",
    "\n",
    "# Compile model (required to make predictions)\n",
    "new_model.compile(optimizer='adam', loss='sparse_categorical_crossentropy')\n",
    "print(\"Created model and loaded weights from file\")\n",
    "\n",
    "test_encoder_input = x_test\n",
    "test_decoder_input = y_test[:,:-1]\n",
    "test_decoder_output = y_test[:,1:]\n",
    "\n",
    "# Predictions\n",
    "predictions = new_model.predict(x = [test_encoder_input, test_decoder_input])\n",
    "\n",
    "# Evaluation scores - like accuracy, loss, etc...\n",
    "scores = new_model.evaluate(x = [test_encoder_input, test_decoder_input], y = test_decoder_output, verbose=0)\n",
    "print(\"Evaluation - \" + \"%s: %.2f\" % (new_model.metrics_names, scores))"
   ]
  },
  {
   "cell_type": "markdown",
   "metadata": {},
   "source": [
    "## Prediction:"
   ]
  },
  {
   "cell_type": "code",
   "execution_count": 72,
   "metadata": {},
   "outputs": [],
   "source": [
    "test_encoder_input = x_test\n",
    "test_decoder_input = y_test[:,:-1]\n",
    "test_decoder_output = y_test[:,1:]\n",
    "\n",
    "predictions = new_model.predict([test_encoder_input, test_decoder_input])"
   ]
  },
  {
   "cell_type": "markdown",
   "metadata": {},
   "source": [
    "## Visualising Attention Weigths:"
   ]
  },
  {
   "cell_type": "code",
   "execution_count": 152,
   "metadata": {},
   "outputs": [
    {
     "data": {
      "image/png": "[encoded data removed]",
      "text/plain": [
       "<Figure size 648x345.6 with 2 Axes>"
      ]
     },
     "metadata": {
      "needs_background": "light"
     },
     "output_type": "display_data"
    }
   ],
   "source": [
    "from importlib import reload\n",
    "from utils import visualize_attention\n",
    "reload(visualize_attention)\n",
    "from utils.visualize_attention import DisplayAttentionWeights\n",
    "from tensorflow.keras import Model\n",
    "\n",
    "# Extracting Attention weights from the model\n",
    "display_attention_weights_model = Model(inputs=new_model.input, \n",
    "                                        outputs=[new_model.get_layer('attention_vector').output])\n",
    "attention_weights = display_attention_weights_model.predict([test_encoder_input, test_decoder_input])\n",
    "\n",
    "# Display\n",
    "DisplayAttentionWeights(attention_weights,\n",
    "                        germ_word_index, eng_word_index,\n",
    "                        actual = test_encoder_input, predicted = np.argmax(predictions, axis = 2),\n",
    "                        index = 16335, scale = 0.6)"
   ]
  },
  {
   "cell_type": "code",
   "execution_count": 151,
   "metadata": {},
   "outputs": [
    {
     "data": {
      "image/png": "[encoded data removed]",
      "text/plain": [
       "<Figure size 648x345.6 with 2 Axes>"
      ]
     },
     "metadata": {
      "needs_background": "light"
     },
     "output_type": "display_data"
    }
   ],
   "source": [
    "from importlib import reload\n",
    "from utils import visualize_attention\n",
    "reload(visualize_attention)\n",
    "from utils.visualize_attention import DisplayAttentionWeights\n",
    "from tensorflow.keras import Model\n",
    "\n",
    "# Extracting Attention weights from the model\n",
    "display_attention_weights_model = Model(inputs=new_model.input, \n",
    "                                        outputs=[new_model.get_layer('attention_vector').output])\n",
    "attention_weights = display_attention_weights_model.predict([test_encoder_input, test_decoder_input])\n",
    "\n",
    "# Display\n",
    "DisplayAttentionWeights(attention_weights,\n",
    "                        germ_word_index, eng_word_index,\n",
    "                        actual = test_encoder_input, predicted = np.argmax(predictions, axis = 2),\n",
    "                        index = 7574, scale = 0.6)"
   ]
  },
  {
   "cell_type": "code",
   "execution_count": 136,
   "metadata": {},
   "outputs": [
    {
     "data": {
      "text/plain": [
       "actual       tom wore a tuxedo\n",
       "predicted      tom wore a boat\n",
       "Name: 16206, dtype: object"
      ]
     },
     "execution_count": 136,
     "metadata": {},
     "output_type": "execute_result"
    }
   ],
   "source": [
    "pred_df.iloc[16206]"
   ]
  },
  {
   "cell_type": "code",
   "execution_count": 137,
   "metadata": {
    "scrolled": false
   },
   "outputs": [
    {
     "data": {
      "text/html": [
       "<div>\n",
       "<style scoped>\n",
       "    .dataframe tbody tr th:only-of-type {\n",
       "        vertical-align: middle;\n",
       "    }\n",
       "\n",
       "    .dataframe tbody tr th {\n",
       "        vertical-align: top;\n",
       "    }\n",
       "\n",
       "    .dataframe thead th {\n",
       "        text-align: right;\n",
       "    }\n",
       "</style>\n",
       "<table border=\"1\" class=\"dataframe\">\n",
       "  <thead>\n",
       "    <tr style=\"text-align: right;\">\n",
       "      <th></th>\n",
       "      <th>actual</th>\n",
       "      <th>predicted</th>\n",
       "    </tr>\n",
       "  </thead>\n",
       "  <tbody>\n",
       "    <tr>\n",
       "      <td>7706</td>\n",
       "      <td>was his story true</td>\n",
       "      <td>was his last true</td>\n",
       "    </tr>\n",
       "    <tr>\n",
       "      <td>14691</td>\n",
       "      <td>it rained heavily</td>\n",
       "      <td>the is off</td>\n",
       "    </tr>\n",
       "    <tr>\n",
       "      <td>12594</td>\n",
       "      <td>she kicked the door</td>\n",
       "      <td>the is the door</td>\n",
       "    </tr>\n",
       "    <tr>\n",
       "      <td>8719</td>\n",
       "      <td>we have to stop</td>\n",
       "      <td>we have to stop</td>\n",
       "    </tr>\n",
       "    <tr>\n",
       "      <td>7565</td>\n",
       "      <td>my sister got engaged</td>\n",
       "      <td>my wife is stolen</td>\n",
       "    </tr>\n",
       "    <tr>\n",
       "      <td>8732</td>\n",
       "      <td>hows the apple</td>\n",
       "      <td>how the gate</td>\n",
       "    </tr>\n",
       "    <tr>\n",
       "      <td>7574</td>\n",
       "      <td>she looks happy</td>\n",
       "      <td>she looks happy</td>\n",
       "    </tr>\n",
       "    <tr>\n",
       "      <td>1886</td>\n",
       "      <td>they were not pleased</td>\n",
       "      <td>they didnt not fired</td>\n",
       "    </tr>\n",
       "    <tr>\n",
       "      <td>1353</td>\n",
       "      <td>he pushed me gently</td>\n",
       "      <td>he ran at</td>\n",
       "    </tr>\n",
       "    <tr>\n",
       "      <td>15460</td>\n",
       "      <td>i accept your terms</td>\n",
       "      <td>i like you own</td>\n",
       "    </tr>\n",
       "  </tbody>\n",
       "</table>\n",
       "</div>"
      ],
      "text/plain": [
       "                      actual             predicted\n",
       "7706      was his story true     was his last true\n",
       "14691      it rained heavily            the is off\n",
       "12594    she kicked the door       the is the door\n",
       "8719         we have to stop       we have to stop\n",
       "7565   my sister got engaged     my wife is stolen\n",
       "8732          hows the apple          how the gate\n",
       "7574         she looks happy       she looks happy\n",
       "1886   they were not pleased  they didnt not fired\n",
       "1353     he pushed me gently             he ran at\n",
       "15460    i accept your terms        i like you own"
      ]
     },
     "execution_count": 137,
     "metadata": {},
     "output_type": "execute_result"
    }
   ],
   "source": [
    "actual = convert_int2word(test_decoder_output)\n",
    "predicted = convert_int2word(np.argmax(predictions, axis = 2))\n",
    "\n",
    "pred_df = pd.DataFrame({'actual' : actual,\n",
    "                        'predicted' : predicted})\n",
    "pred_df.sample(10)"
   ]
  },
  {
   "cell_type": "code",
   "execution_count": 25,
   "metadata": {},
   "outputs": [
    {
     "data": {
      "image/png": "[encoded data removed]",
      "text/plain": [
       "<Figure size 432x288 with 1 Axes>"
      ]
     },
     "metadata": {
      "needs_background": "light"
     },
     "output_type": "display_data"
    }
   ],
   "source": [
    "plt.plot(history.history['loss'])\n",
    "plt.plot(history.history['val_loss'])\n",
    "plt.legend(['train','validation'])\n",
    "plt.show()"
   ]
  },
  {
   "cell_type": "code",
   "execution_count": 26,
   "metadata": {},
   "outputs": [
    {
     "name": "stdout",
     "output_type": "stream",
     "text": [
      "BLEU-1: 0.524960\n",
      "BLEU-2: 0.000000\n",
      "BLEU-3: 0.000000\n",
      "BLEU-4: 0.000000\n"
     ]
    }
   ],
   "source": [
    "from nltk.translate.bleu_score import corpus_bleu\n",
    "\n",
    "actual = convert_int2word(y_test)\n",
    "# actual = [line.split() for line in actual]\n",
    "predicted = convert_int2word(np.argmax(preds, axis = 2))\n",
    "# predicted = [line.split() for line in predicted]\n",
    "\n",
    "# calculate BLEU score\n",
    "print('BLEU-1: %f' % corpus_bleu(actual, predicted, weights=(1.0, 0, 0, 0)))\n",
    "print('BLEU-2: %f' % corpus_bleu(actual, predicted, weights=(0.5, 0.5, 0, 0)))\n",
    "print('BLEU-3: %f' % corpus_bleu(actual, predicted, weights=(0.3, 0.3, 0.3, 0)))\n",
    "print('BLEU-4: %f' % corpus_bleu(actual, predicted, weights=(0.25, 0.25, 0.25, 0.25)))"
   ]
  },
  {
   "cell_type": "markdown",
   "metadata": {},
   "source": [
    "## Miscellaneous: Ideas to try out to get an improved Accuracy !!\n",
    "This section lists some ideas that you may wish to explore.\n",
    "\n",
    "- <b>Data Cleaning: </b> Different data cleaning operations could be performed on the data, such as not removing punctuation or normalizing case, or perhaps removing duplicate English phrases.\n",
    "- <b>Vocabulary: </b> The vocabulary could be refined, perhaps removing words used less than 5 or 10 times in the dataset and replaced with “unk“.\n",
    "- <b>More Data: </b> The dataset used to fit the model could be expanded to 50,000, 100,000 phrases, or more.\n",
    "- <b>Input Order: </b> The order of input phrases could be reversed, which has been reported to lift skill, or a Bidirectional input layer could be used.\n",
    "- <b>Layers: </b> The encoder and/or the decoder models could be expanded with additional layers and trained for more epochs, providing more representational capacity for the model.\n",
    "- <b>Units: </b> The number of memory units in the encoder and decoder could be increased, providing more representational capacity for the model.\n",
    "- <b>Regularization: </b> The model could use regularization, such as weight or activation regularization, or the use of dropout on the LSTM layers.\n",
    "- <b>Pre-Trained Word Vectors: </b> Pre-trained word vectors could be used in the model.\n",
    "- <b>Recursive Model: </b> A recursive formulation of the model could be used where the next word in the output sequence could be conditional on the input sequence and the output sequence generated so far (this is a method other than Teacher Forcing).\n",
    "\n",
    "<b>Hyperparameter tuning, Attention, etc.:</b> [How to Configure an Encoder-Decoder Model for Neural Machine Translation](https://machinelearningmastery.com/configure-encoder-decoder-model-neural-machine-translation/)"
   ]
  },
  {
   "cell_type": "code",
   "execution_count": null,
   "metadata": {},
   "outputs": [],
   "source": [
    "# when [a] + b vs [a,b]\n",
    "\n",
    "# The differentiation is that it considers all the hidden states of both the encoder LSTM and decoder LSTM to calculate a \n",
    "# “variable-length context vector ct, whereas Bahdanau et al. used the previous hidden state of the unidirectional decoder LSTM\n",
    "# and all the hidden states of the encoder LSTM to calculate the context vector.\n",
    "\n",
    "# what does masking mean (Attention)?\n",
    "\n",
    "# Bleu score and attention weights visualisation - check if you got correct output !!!!!!!!!!!!!!!!!!!!!!!\n",
    "# use the output of previous layer as input to decoder - maybe if you do this your model perfomance may decrease drastically\n",
    "# and it somehow relates to the weirdness if the attention weights\n",
    "\n",
    "# Transformers ??????? - has better results and faster (if u have gpu)\n",
    "# BERT\n",
    "# use BRNN\n",
    "# Tensorboard usage.....\n",
    "\n",
    "# setting random state - same weight initialisation everytime - model training?"
   ]
  },
  {
   "cell_type": "code",
   "execution_count": null,
   "metadata": {},
   "outputs": [],
   "source": [
    "# decrease embedding and no of hidden units to 256 maybe..."
   ]
  }
 ],
 "metadata": {
  "kernelspec": {
   "display_name": "Python 3",
   "language": "python",
   "name": "python3"
  },
  "language_info": {
   "codemirror_mode": {
    "name": "ipython",
    "version": 3
   },
   "file_extension": ".py",
   "mimetype": "text/x-python",
   "name": "python",
   "nbconvert_exporter": "python",
   "pygments_lexer": "ipython3",
   "version": "3.7.4"
  }
 },
 "nbformat": 4,
 "nbformat_minor": 2
}
