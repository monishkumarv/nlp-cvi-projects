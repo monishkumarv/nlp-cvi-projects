{
 "cells": [
  {
   "cell_type": "markdown",
   "metadata": {},
   "source": [
    "## German-English Translator: Using Seq2seq modelling with Attention Mechanism"
   ]
  },
  {
   "cell_type": "code",
   "execution_count": 1,
   "metadata": {},
   "outputs": [],
   "source": [
    "import pandas as pd\n",
    "import numpy as np\n",
    "import matplotlib.pyplot as plt\n",
    "import seaborn as sns\n",
    "import warnings\n",
    "warnings.filterwarnings(\"ignore\")\n",
    "\n",
    "import random\n",
    "random.seed(42)\n",
    "\n",
    "pd.set_option('display.max_colwidth', 200)"
   ]
  },
  {
   "cell_type": "markdown",
   "metadata": {},
   "source": [
    "## Loading Data:"
   ]
  },
  {
   "cell_type": "code",
   "execution_count": 2,
   "metadata": {},
   "outputs": [],
   "source": [
    "def load_data(filepath):\n",
    "    ifile = open(filepath, mode='rt', encoding='utf-8')\n",
    "    data = ifile.read()\n",
    "    ifile.close()\n",
    "    \n",
    "    data = data.split('\\n')\n",
    "    data = [ i.split('\\t') for i in data ]\n",
    "    data = [ [i[0],i[1]] for i in data ]\n",
    "    \n",
    "    return data"
   ]
  },
  {
   "cell_type": "code",
   "execution_count": 3,
   "metadata": {},
   "outputs": [],
   "source": [
    "eng_germ = load_data('./datasets/german-eng-translation.txt')\n",
    "eng_germ = pd.DataFrame(eng_germ, columns=['english','german'])\n",
    "\n",
    "eng_germ = eng_germ.iloc[:50000]"
   ]
  },
  {
   "cell_type": "markdown",
   "metadata": {},
   "source": [
    "## Text Cleaning and Preprocessing:"
   ]
  },
  {
   "cell_type": "code",
   "execution_count": 4,
   "metadata": {},
   "outputs": [
    {
     "data": {
      "text/plain": [
       "Text(0.5, 1.0, 'Max sentence length (German): 15')"
      ]
     },
     "execution_count": 4,
     "metadata": {},
     "output_type": "execute_result"
    },
    {
     "data": {
      "image/png": "[encoded data removed]",
      "text/plain": [
       "<Figure size 720x216 with 2 Axes>"
      ]
     },
     "metadata": {
      "needs_background": "light"
     },
     "output_type": "display_data"
    }
   ],
   "source": [
    "# Remove punctuation\n",
    "eng_germ['english'] = eng_germ['english'].str.replace('[^\\w\\s]','')\n",
    "eng_germ['german'] = eng_germ['german'].str.replace('[^\\w\\s]','')\n",
    "\n",
    "# Convert text to lowercase\n",
    "eng_germ['english'] = eng_germ['english'].str.lower()\n",
    "eng_germ['german'] = eng_germ['german'].str.lower()\n",
    "\n",
    "# Dropping duplicates\n",
    "eng_germ = eng_germ.drop_duplicates(subset=None, keep='first', inplace=False)\n",
    "eng_germ = eng_germ.set_index(np.linspace(0,len(eng_germ)-1,len(eng_germ)).astype(int))\n",
    "\n",
    "# Adding '<start>' and '<end>' tokens to target variable (English)\n",
    "eng_germ['english'] = eng_germ['english'].apply(lambda x: ('<BOS> ' + x + ' <EOS>'))\n",
    "\n",
    "# Visualising sentence lengths\n",
    "len_eng = eng_germ['english'].apply(lambda x: len(x.split()))\n",
    "len_germ = eng_germ['german'].apply(lambda x: len(x.split()))\n",
    "\n",
    "plt.figure(figsize=(10,3))\n",
    "plt.subplot(1,2,1)\n",
    "_ = plt.hist(len_eng, bins = 30)\n",
    "plt.title('Max sentence length (English): ' + str(max(len_eng)))\n",
    "plt.subplot(1,2,2)\n",
    "_ = plt.hist(len_germ, bins = 30)\n",
    "plt.title('Max sentence length (German): ' + str(max(len_germ)))"
   ]
  },
  {
   "cell_type": "markdown",
   "metadata": {},
   "source": [
    "## Tokenizing and Padding :"
   ]
  },
  {
   "cell_type": "code",
   "execution_count": 5,
   "metadata": {},
   "outputs": [
    {
     "name": "stderr",
     "output_type": "stream",
     "text": [
      "Using TensorFlow backend.\n"
     ]
    }
   ],
   "source": [
    "from keras.preprocessing.text import Tokenizer\n",
    "from keras.preprocessing.sequence import pad_sequences"
   ]
  },
  {
   "cell_type": "code",
   "execution_count": 6,
   "metadata": {},
   "outputs": [],
   "source": [
    "def tokenize(data):\n",
    "    tokenizer = Tokenizer(lower = False, split=' ')\n",
    "    tokenizer.fit_on_texts(data)\n",
    "    \n",
    "    tokenized_data = tokenizer.texts_to_sequences(data)\n",
    "    word_index = tokenizer.word_index\n",
    "    \n",
    "    return tokenized_data, word_index"
   ]
  },
  {
   "cell_type": "code",
   "execution_count": 7,
   "metadata": {},
   "outputs": [
    {
     "name": "stdout",
     "output_type": "stream",
     "text": [
      "English Vocabulary size: 6332\n",
      "German Vocabulary size: 10401\n"
     ]
    }
   ],
   "source": [
    "# Tokenization\n",
    "eng_data, eng_word_index = tokenize(eng_germ['english'])\n",
    "germ_data, germ_word_index = tokenize(eng_germ['german'])\n",
    "\n",
    "eng_word_index = {i: word for word, i in eng_word_index.items()}\n",
    "germ_word_index = {i: word for word, i in germ_word_index.items()}\n",
    "\n",
    "# (+1) is for padding - '0'\n",
    "eng_vocab_size = len(eng_word_index) + 1\n",
    "germ_vocab_size = len(germ_word_index) + 1\n",
    "\n",
    "print('English Vocabulary size:',eng_vocab_size)\n",
    "print('German Vocabulary size:',germ_vocab_size)"
   ]
  },
  {
   "cell_type": "code",
   "execution_count": 8,
   "metadata": {},
   "outputs": [],
   "source": [
    "# Padding\n",
    "eng_max_len = max(len_eng)\n",
    "germ_max_len = max(len_germ)\n",
    "\n",
    "# We use post pading because the model needs to know where (timestamp = 1) the sentece starts\n",
    "x = pad_sequences(germ_data, maxlen=germ_max_len, padding='post')\n",
    "y = pad_sequences(eng_data, maxlen=eng_max_len, padding='post')"
   ]
  },
  {
   "cell_type": "code",
   "execution_count": 9,
   "metadata": {},
   "outputs": [],
   "source": [
    "from sklearn.model_selection import train_test_split\n",
    "x_train, x_test, y_train, y_test = train_test_split(x, y, test_size=0.33, random_state=42)"
   ]
  },
  {
   "cell_type": "code",
   "execution_count": 10,
   "metadata": {},
   "outputs": [],
   "source": [
    "# Function which converts numbers back to words\n",
    "def convert_int2word(data):\n",
    "    \n",
    "    text = []\n",
    "    for line in data:\n",
    "        sentence = ' '.join([eng_word_index.get(i) for i in line if eng_word_index.get(i) is not None])\n",
    "        \n",
    "        sentence = ' '.join([i for i in sentence.split() if i != 'BOS'])\n",
    "        sentence = ' '.join([i for i in sentence.split() if i != 'EOS'])\n",
    "        \n",
    "        text.append(sentence)\n",
    "\n",
    "    return text"
   ]
  },
  {
   "cell_type": "markdown",
   "metadata": {},
   "source": [
    "# .................................................................................................................................\n",
    "## 4. Attention: WTF method"
   ]
  },
  {
   "cell_type": "code",
   "execution_count": 11,
   "metadata": {},
   "outputs": [
    {
     "name": "stdout",
     "output_type": "stream",
     "text": [
      "John Doe\n",
      "Mike Olsen\n"
     ]
    }
   ],
   "source": [
    "class Person:\n",
    "  def __init__(self, fname, lname):\n",
    "    self.firstname = fname\n",
    "    self.lastname = lname\n",
    "\n",
    "  def printname(self):\n",
    "    print(self.firstname, self.lastname)\n",
    "\n",
    "x = Person(\"John\", \"Doe\")\n",
    "x.printname()\n",
    "\n",
    "class Student(Person):\n",
    "  def __init__(self, fname, lname, year):\n",
    "    super().__init__(fname, lname)\n",
    "    self.graduationyear = year\n",
    "    super().printname()\n",
    "\n",
    "x = Student(\"Mike\", \"Olsen\", 2019)"
   ]
  },
  {
   "cell_type": "markdown",
   "metadata": {},
   "source": [
    "### 4.1. Training Model:"
   ]
  },
  {
   "cell_type": "markdown",
   "metadata": {},
   "source": [
    "<b>3 ways to create Keras model:</b>\n",
    "- Sequential API - A Sequential model is appropriate for a plain stack of layers where each layer has exactly one input tensor and one output tensor.\n",
    "- Functional API - The Keras functional API is a way to create models that is more flexible than the tf.keras.Sequential API. The functional API can handle models with non-linear topology, models with shared layers, and models with multiple inputs or outputs.The main idea that a deep learning model is usually a directed acyclic graph (DAG) of layers. So the functional API is a way to build graphs of layers.\n",
    "- Model subclassing - "
   ]
  },
  {
   "cell_type": "markdown",
   "metadata": {},
   "source": [
    "##### model.save() - This saved file includes the:\n",
    "\n",
    "- model architecture\n",
    "- model weight values (that were learned during training)\n",
    "- model training config, if any (as passed to compile)\n",
    "- optimizer and its state, if any (to restart training where you left off)"
   ]
  },
  {
   "cell_type": "markdown",
   "metadata": {},
   "source": [
    "##### TensorFlow or Keras? Which one should I learn? - [link](https://medium.com/implodinggradients/tensorflow-or-keras-which-one-should-i-learn-5dd7fa3f9ca0)\n",
    "If you are not doing some research purpose work or developing some special kind of neural network, then go for Keras (trust me, I am a Keras fan!!). And it’s super easy to quickly build even very complex models in Keras.\n",
    "If you want more control over your network and want to watch closely what happens with the network over the time, TF is the right choice (though the syntax can give you nightmares sometimes). But as we all know that Keras has been integrated in TF, it is wiser to build your network using tf.keras and insert anything you want in the network using pure TensorFlow. \n",
    "\n",
    "In short,<br>\n",
    "tf.keras + tf = All you ever gonna need"
   ]
  },
  {
   "cell_type": "code",
   "execution_count": 12,
   "metadata": {},
   "outputs": [],
   "source": [
    "from tensorflow.keras import Model, Input\n",
    "from tensorflow.python.keras.layers import Embedding, LSTM\n",
    "from tensorflow.python.keras.layers import Attention, AdditiveAttention\n",
    "from tensorflow.python.keras.layers import Dot, Concatenate, Activation\n",
    "from tensorflow.python.keras.layers import TimeDistributed, Dense\n",
    "\n",
    "class MyAttentionClass():\n",
    "    \n",
    "    def __init__(self,input_vocab_size, output_vocab_size, input_maxwords, output_maxwords, hidden_units, embedding_size):\n",
    "        \n",
    "#         self.input_vocab_size = germ_vocab_size\n",
    "#         self.output_vocab_size = eng_vocab_size\n",
    "#         self.input_maxwords = germ_max_len\n",
    "#         self.output_maxwords = eng_max_len - 1\n",
    "#         self.hidden_units = hidden_units\n",
    "        \n",
    "#         embedding_size = 300\n",
    "        \n",
    "        # Encoder part...\n",
    "        self.encoder_input = Input(shape = (None,), name = 'encoder_input') \n",
    "        self.encoder_embedding_layer = Embedding(input_vocab_size, embedding_size,\n",
    "                                                 input_length=input_maxwords, mask_zero=True)\n",
    "        self.encoder_lstm_layer = LSTM(hidden_units, return_sequences=True, return_state=True, name='encoder_lstm_layer')\n",
    "        \n",
    "        # Decoder part...\n",
    "        self.decoder_input = Input(shape = (None,), name = 'decoder_input') \n",
    "        self.decoder_embedding_layer = Embedding(output_vocab_size, embedding_size,\n",
    "                                                 input_length=output_maxwords, mask_zero=True)\n",
    "        self.decoder_lstm_layer = LSTM(hidden_units, return_sequences=True, return_state=True, name='decoder_lstm_layer')\n",
    "        \n",
    "        # Attention part... seperate function\n",
    "        \n",
    "        # Output part...\n",
    "        self.concat_layer = Concatenate(axis=-1)\n",
    "        self.timedistributed_dense_layer = TimeDistributed(Dense(hidden_units, activation=\"tanh\"))\n",
    "        self.output_dense_layer = Dense(output_vocab_size, activation='softmax', name='output_dense_layer')\n",
    "        \n",
    "    def Encoder(self, encoder_input):\n",
    "                \n",
    "        # Encoder input Embedding...\n",
    "        encoder_embedding_input = self.encoder_embedding_layer(encoder_input)\n",
    "        # Encoder part... \n",
    "        encoder_output, encoder_state_h, encoder_state_c = self.encoder_lstm_layer(encoder_embedding_input)\n",
    "        encoder_state = [encoder_state_h, encoder_state_c]\n",
    "        \n",
    "        return encoder_output, encoder_state\n",
    "    \n",
    "    def Decoder(self, decoder_input, encoder_state):\n",
    "                \n",
    "        # Decoder input Embedding...\n",
    "        decoder_embedding_input = self.decoder_embedding_layer(decoder_input)\n",
    "        # Decoder part... \n",
    "        decoder_output, _ , _ = self.decoder_lstm_layer(decoder_embedding_input,\n",
    "                                                   initial_state=encoder_state)\n",
    "        return decoder_output\n",
    "    \n",
    "    def LuongAttention(self, decoder_output, encoder_output):\n",
    "        \n",
    "        # Attention Layer...Luong's Attention Mechanism...\n",
    "        e_vaule = Dot(axes=[2, 2], name='attention_score_e')([decoder_output, encoder_output])  \n",
    "        attention_weights = Activation('softmax', name='attention_vector')(e_vaule)\n",
    "        context_vector = Dot(axes=[2,1], name='context_vector')([attention_weights, encoder_output])    \n",
    "\n",
    "        # attention_layer = AdditiveAttention(name='attention_layer')\n",
    "        # context_vector = attention_layer([decoder_output, encoder_output])\n",
    "        \n",
    "        return attention_weights, context_vector\n",
    "        \n",
    "    def Output(self, context_vector, decoder_output):\n",
    "        \n",
    "        decoder_combined_context = self.concat_layer([context_vector, decoder_output])\n",
    "        output = self.timedistributed_dense_layer(decoder_combined_context)\n",
    "        decoder_prediction = self.output_dense_layer(output)\n",
    "        \n",
    "        return decoder_prediction\n",
    "    \n",
    "    def call(self):\n",
    "        \n",
    "        encoder_output, encoder_state = self.Encoder(self.encoder_input)\n",
    "        decoder_output = self.Decoder(self.decoder_input, encoder_state)\n",
    "        attention_weights, context_vector = self.LuongAttention(decoder_output, encoder_output)\n",
    "        decoder_prediction = self.Output(context_vector, decoder_output)\n",
    "        \n",
    "        return Model(inputs=[self.encoder_input, self.decoder_input], outputs=[decoder_prediction])\n"
   ]
  },
  {
   "cell_type": "code",
   "execution_count": 40,
   "metadata": {},
   "outputs": [],
   "source": [
    "myobject = MyAttentionClass(germ_vocab_size, eng_vocab_size, germ_max_len, eng_max_len - 1, 512, 300)\n",
    "my_model = myobject.call()"
   ]
  },
  {
   "cell_type": "code",
   "execution_count": 41,
   "metadata": {
    "scrolled": true
   },
   "outputs": [
    {
     "name": "stdout",
     "output_type": "stream",
     "text": [
      "Model: \"model_2\"\n",
      "__________________________________________________________________________________________________\n",
      "Layer (type)                    Output Shape         Param #     Connected to                     \n",
      "==================================================================================================\n",
      "encoder_input (InputLayer)      [(None, None)]       0                                            \n",
      "__________________________________________________________________________________________________\n",
      "decoder_input (InputLayer)      [(None, None)]       0                                            \n",
      "__________________________________________________________________________________________________\n",
      "embedding_15 (Embedding)        (None, None, 300)    3120300     encoder_input[0][0]              \n",
      "__________________________________________________________________________________________________\n",
      "embedding_16 (Embedding)        (None, None, 300)    1899600     decoder_input[0][0]              \n",
      "__________________________________________________________________________________________________\n",
      "encoder_lstm_layer (LSTM)       [(None, None, 512),  1665024     embedding_15[0][0]               \n",
      "__________________________________________________________________________________________________\n",
      "decoder_lstm_layer (LSTM)       [(None, None, 512),  1665024     embedding_16[0][0]               \n",
      "                                                                 encoder_lstm_layer[0][1]         \n",
      "                                                                 encoder_lstm_layer[0][2]         \n",
      "__________________________________________________________________________________________________\n",
      "attention_score_e (Dot)         (None, None, None)   0           decoder_lstm_layer[0][0]         \n",
      "                                                                 encoder_lstm_layer[0][0]         \n",
      "__________________________________________________________________________________________________\n",
      "attention_vector (Activation)   (None, None, None)   0           attention_score_e[0][0]          \n",
      "__________________________________________________________________________________________________\n",
      "context_vector (Dot)            (None, None, 512)    0           attention_vector[0][0]           \n",
      "                                                                 encoder_lstm_layer[0][0]         \n",
      "__________________________________________________________________________________________________\n",
      "concatenate_7 (Concatenate)     (None, None, 1024)   0           context_vector[0][0]             \n",
      "                                                                 decoder_lstm_layer[0][0]         \n",
      "__________________________________________________________________________________________________\n",
      "time_distributed_7 (TimeDistrib (None, None, 512)    524800      concatenate_7[0][0]              \n",
      "__________________________________________________________________________________________________\n",
      "output_dense_layer (Dense)      (None, None, 6332)   3248316     time_distributed_7[0][0]         \n",
      "==================================================================================================\n",
      "Total params: 12,123,064\n",
      "Trainable params: 12,123,064\n",
      "Non-trainable params: 0\n",
      "__________________________________________________________________________________________________\n",
      "Train on 7 samples, validate on 3 samples\n",
      "7/7 [==============================] - 9s 1s/sample - loss: 6.4085 - sparse_categorical_accuracy: 0.0000e+00 - val_loss: 6.1937 - val_sparse_categorical_accuracy: 0.2353\n"
     ]
    }
   ],
   "source": [
    "from tensorflow.python.keras.callbacks import ModelCheckpoint\n",
    "\n",
    "epochs = 1\n",
    "batch_size=512\n",
    "\n",
    "my_model.compile(optimizer='adam', loss='sparse_categorical_crossentropy', metrics = ['sparse_categorical_accuracy'])\n",
    "\n",
    "# Assigning appropriate inputs and outputs\n",
    "training_encoder_input = x_train[:10]\n",
    "training_decoder_input = y_train[:,:-1][:10]\n",
    "training_decoder_output = y_train[:,1:][:10]\n",
    "\n",
    "filepath = './model weigths/AttentionModel_weights_WTF3.hdf5'\n",
    "checkpoint = ModelCheckpoint(filepath, monitor='val_loss', verbose=0, save_best_only=True, mode='min')\n",
    "my_model.summary()\n",
    "\n",
    "# Training the model\n",
    "history = my_model.fit(x=[training_encoder_input, training_decoder_input], \n",
    "                    y=[training_decoder_output],\n",
    "                    epochs=epochs, batch_size=batch_size, validation_split = 0.3,\n",
    "#                     callbacks=[checkpoint],\n",
    "                    verbose=1)"
   ]
  },
  {
   "cell_type": "markdown",
   "metadata": {},
   "source": [
    "### 4.2. Test Model:"
   ]
  },
  {
   "cell_type": "code",
   "execution_count": 12,
   "metadata": {},
   "outputs": [],
   "source": [
    "# Encoder during test time...\n",
    "encoder_model = Model(inputs = encoder_input, outputs = [encoder_output, encoder_state])\n",
    "\n",
    "# Decoder during test time\n",
    "decoder_embed_input_test = decoder_embed_layer(decoder_input)\n",
    "\n",
    "decoder_state_input_h = Input(shape=(None,)) # Note: shape - doesn't include no of training data\n",
    "decoder_state_input_c = Input(shape=(None,))\n",
    "decoder_input_state = [decoder_state_input_h, decoder_state_input_c]\n",
    "\n",
    "decoder_output, decoder_state_h, decoder_state_c = decoder_lstm_layer(decoder_embed_input_test, \n",
    "                                                                      initial_state=decoder_input_state)\n",
    "decoder_output_state = [decoder_state_h, decoder_state_c]\n",
    "\n",
    "decoder_model = Model(inputs = [decoder_input] + decoder_input_state, \n",
    "                     outputs = [decoder_output] + decoder_output_state)"
   ]
  },
  {
   "cell_type": "code",
   "execution_count": 211,
   "metadata": {},
   "outputs": [],
   "source": [
    "# Attention during test time\n",
    "\n",
    "att_decoder_output = Input(shape=(None,hidden_units))\n",
    "att_encoder_output = Input(shape=(None,hidden_units))   \n",
    "\n",
    "attention_value_e = Dot(axes=[2, 2], name='attention_score_e')([att_decoder_output, att_encoder_output])\n",
    "attention_weights = Activation('softmax', name='attention_vector')(attention_value_e)\n",
    "context_vector = Dot(axes=[2,1], name='context_vector')([attention_weights, att_encoder_output])    \n",
    "\n",
    "# context_vector = attention_layer([att_decoder_output, att_encoder_output])\n",
    "\n",
    "decoder_combined_context = concat_layer([context_vector, att_decoder_output])\n",
    "\n",
    "output = time_dist_layer(decoder_combined_context)    \n",
    "\n",
    "decoder_prediction = dense_layer(output)\n",
    "\n",
    "attention_model = Model(inputs = [att_decoder_output, att_encoder_output],\n",
    "                       outputs = [decoder_prediction, attention_weights])"
   ]
  },
  {
   "cell_type": "markdown",
   "metadata": {},
   "source": [
    "### 4.3. Decode the sequence:"
   ]
  },
  {
   "cell_type": "code",
   "execution_count": 212,
   "metadata": {},
   "outputs": [],
   "source": [
    "# decode sequence function here....\n",
    "def decode_sequence(input_seq):\n",
    "    \n",
    "    input_len = len(input_seq)\n",
    "    \n",
    "    encoder_output, encoder_state_h, encoder_state_c = encoder_model.predict(input_seq)\n",
    "    encoder_states = [encoder_state_h, encoder_state_c]\n",
    "    \n",
    "    target_seq = np.ones((input_len,1)) # index corresponding to BOS\n",
    "    stop_condition = False\n",
    "    decoded_sentence = [''] * input_len\n",
    "    attention_wts = [[]] * input_len\n",
    "    max_len = eng_max_len - 1\n",
    "    attention_wts = np.array([])\n",
    "    \n",
    "    count = max_len\n",
    "    while count > 0:\n",
    "        \n",
    "        decoder_output, h, c = decoder_model.predict([target_seq] + encoder_states)\n",
    "                \n",
    "        output, attention_weights = attention_model.predict([decoder_output, encoder_output])        \n",
    "        attention_wts = np.hstack([attention_wts, attention_weights]) if attention_wts.size else attention_weights\n",
    "        sampled_token_index = np.argmax(output, axis = 2)\n",
    "\n",
    "        \n",
    "        for i in range(input_len):\n",
    "            predicted_word = eng_word_index.get(sampled_token_index[i][0])\n",
    "            if predicted_word is not None:\n",
    "                decoded_sentence[i] += ' ' + predicted_word\n",
    "        \n",
    "#         if(predicted_word == 'EOS' or len(decoded_sentence) > max_len):\n",
    "#             stop_condition = True\n",
    "        \n",
    "        target_seq = sampled_token_index\n",
    "        states_value = [h,c]\n",
    "        \n",
    "        count = count - 1\n",
    "        \n",
    "    return decoded_sentence, attention_wts\n"
   ]
  },
  {
   "cell_type": "markdown",
   "metadata": {},
   "source": [
    "### 4.4. Test prediction:"
   ]
  },
  {
   "cell_type": "code",
   "execution_count": 213,
   "metadata": {},
   "outputs": [],
   "source": [
    "test_encoder_input = x_test\n",
    "test_decoder_input = y_test[:,:-1]\n",
    "test_decoder_output = y_test[:,1:]\n",
    "\n",
    "decoded_sentence,attention_weights = decode_sequence(test_encoder_input[:23])"
   ]
  },
  {
   "cell_type": "code",
   "execution_count": 214,
   "metadata": {},
   "outputs": [
    {
     "data": {
      "text/plain": [
       "(8, 15)"
      ]
     },
     "execution_count": 214,
     "metadata": {},
     "output_type": "execute_result"
    }
   ],
   "source": [
    "attention_weights[0].shape"
   ]
  },
  {
   "cell_type": "code",
   "execution_count": 215,
   "metadata": {},
   "outputs": [
    {
     "data": {
      "text/plain": [
       "<matplotlib.axes._subplots.AxesSubplot at 0x256254a9a48>"
      ]
     },
     "execution_count": 215,
     "metadata": {},
     "output_type": "execute_result"
    },
    {
     "data": {
      "image/png": "[encoded data removed]",
      "text/plain": [
       "<Figure size 432x288 with 2 Axes>"
      ]
     },
     "metadata": {
      "needs_background": "light"
     },
     "output_type": "display_data"
    }
   ],
   "source": [
    "import seaborn as sns\n",
    "sns.heatmap((attention_weights[0]))"
   ]
  },
  {
   "cell_type": "code",
   "execution_count": 29,
   "metadata": {},
   "outputs": [
    {
     "data": {
      "text/plain": [
       "['get away',\n",
       " 'tom drives a truck',\n",
       " 'can i pay later',\n",
       " 'money cant buy life',\n",
       " 'tom wont be missed',\n",
       " 'tom is a very shy boy',\n",
       " 'i have to feed my cat',\n",
       " 'tom is very busy now',\n",
       " 'they were shocked',\n",
       " 'they said its ok']"
      ]
     },
     "execution_count": 29,
     "metadata": {},
     "output_type": "execute_result"
    }
   ],
   "source": [
    "convert_int2word(test_decoder_output)[:10]"
   ]
  },
  {
   "cell_type": "code",
   "execution_count": null,
   "metadata": {},
   "outputs": [],
   "source": []
  },
  {
   "cell_type": "code",
   "execution_count": null,
   "metadata": {},
   "outputs": [],
   "source": []
  },
  {
   "cell_type": "markdown",
   "metadata": {},
   "source": [
    "# .................................................................................................................................\n",
    "## Loading already saved weights:"
   ]
  },
  {
   "cell_type": "code",
   "execution_count": 67,
   "metadata": {},
   "outputs": [
    {
     "name": "stdout",
     "output_type": "stream",
     "text": [
      "Created model and loaded weights from file\n",
      "Evaluation - ['loss']: 1.30\n"
     ]
    }
   ],
   "source": [
    "from models_seq2seq.attention import AttentionModel\n",
    "new_model = AttentionModel(germ_vocab_size, eng_vocab_size, germ_max_len, eng_max_len - 1, 512)\n",
    "\n",
    "# load weights\n",
    "new_model.load_weights('./model weigths/AttentionModel_weights.hdf5')\n",
    "\n",
    "# Compile model (required to make predictions)\n",
    "new_model.compile(optimizer='adam', loss='sparse_categorical_crossentropy')\n",
    "print(\"Created model and loaded weights from file\")\n",
    "\n",
    "test_encoder_input = x_test\n",
    "test_decoder_input = y_test[:,:-1]\n",
    "test_decoder_output = y_test[:,1:]\n",
    "\n",
    "# Predictions\n",
    "predictions = new_model.predict(x = [test_encoder_input, test_decoder_input])\n",
    "\n",
    "# Evaluation scores - like accuracy, loss, etc...\n",
    "scores = new_model.evaluate(x = [test_encoder_input, test_decoder_input], y = test_decoder_output, verbose=0)\n",
    "print(\"Evaluation - \" + \"%s: %.2f\" % (new_model.metrics_names, scores))"
   ]
  },
  {
   "cell_type": "markdown",
   "metadata": {},
   "source": [
    "## Prediction:"
   ]
  },
  {
   "cell_type": "code",
   "execution_count": 72,
   "metadata": {},
   "outputs": [],
   "source": [
    "test_encoder_input = x_test\n",
    "test_decoder_input = y_test[:,:-1]\n",
    "test_decoder_output = y_test[:,1:]\n",
    "\n",
    "predictions = new_model.predict([test_encoder_input, test_decoder_input])"
   ]
  },
  {
   "cell_type": "markdown",
   "metadata": {},
   "source": [
    "## Visualising Attention Weigths:"
   ]
  },
  {
   "cell_type": "code",
   "execution_count": 152,
   "metadata": {},
   "outputs": [
    {
     "data": {
      "image/png": "[encoded data removed]",
      "text/plain": [
       "<Figure size 648x345.6 with 2 Axes>"
      ]
     },
     "metadata": {
      "needs_background": "light"
     },
     "output_type": "display_data"
    }
   ],
   "source": [
    "from importlib import reload\n",
    "from utils import visualize_attention\n",
    "reload(visualize_attention)\n",
    "from utils.visualize_attention import DisplayAttentionWeights\n",
    "from tensorflow.keras import Model\n",
    "\n",
    "# Extracting Attention weights from the model\n",
    "display_attention_weights_model = Model(inputs=new_model.input, \n",
    "                                        outputs=[new_model.get_layer('attention_vector').output])\n",
    "attention_weights = display_attention_weights_model.predict([test_encoder_input, test_decoder_input])\n",
    "\n",
    "# Display\n",
    "DisplayAttentionWeights(attention_weights,\n",
    "                        germ_word_index, eng_word_index,\n",
    "                        actual = test_encoder_input, predicted = np.argmax(predictions, axis = 2),\n",
    "                        index = 16335, scale = 0.6)"
   ]
  },
  {
   "cell_type": "code",
   "execution_count": 151,
   "metadata": {},
   "outputs": [
    {
     "data": {
      "image/png": "[encoded data removed]",
      "text/plain": [
       "<Figure size 648x345.6 with 2 Axes>"
      ]
     },
     "metadata": {
      "needs_background": "light"
     },
     "output_type": "display_data"
    }
   ],
   "source": [
    "from importlib import reload\n",
    "from utils import visualize_attention\n",
    "reload(visualize_attention)\n",
    "from utils.visualize_attention import DisplayAttentionWeights\n",
    "from tensorflow.keras import Model\n",
    "\n",
    "# Extracting Attention weights from the model\n",
    "display_attention_weights_model = Model(inputs=new_model.input, \n",
    "                                        outputs=[new_model.get_layer('attention_vector').output])\n",
    "attention_weights = display_attention_weights_model.predict([test_encoder_input, test_decoder_input])\n",
    "\n",
    "# Display\n",
    "DisplayAttentionWeights(attention_weights,\n",
    "                        germ_word_index, eng_word_index,\n",
    "                        actual = test_encoder_input, predicted = np.argmax(predictions, axis = 2),\n",
    "                        index = 7574, scale = 0.6)"
   ]
  },
  {
   "cell_type": "code",
   "execution_count": null,
   "metadata": {},
   "outputs": [],
   "source": [
    "16420\n",
    "16325\n",
    "16335\n",
    "16260\n",
    "16204\n",
    "16206\n",
    "7574\n",
    "7565"
   ]
  },
  {
   "cell_type": "code",
   "execution_count": 136,
   "metadata": {},
   "outputs": [
    {
     "data": {
      "text/plain": [
       "actual       tom wore a tuxedo\n",
       "predicted      tom wore a boat\n",
       "Name: 16206, dtype: object"
      ]
     },
     "execution_count": 136,
     "metadata": {},
     "output_type": "execute_result"
    }
   ],
   "source": [
    "pred_df.iloc[16206]"
   ]
  },
  {
   "cell_type": "code",
   "execution_count": 137,
   "metadata": {
    "scrolled": false
   },
   "outputs": [
    {
     "data": {
      "text/html": [
       "<div>\n",
       "<style scoped>\n",
       "    .dataframe tbody tr th:only-of-type {\n",
       "        vertical-align: middle;\n",
       "    }\n",
       "\n",
       "    .dataframe tbody tr th {\n",
       "        vertical-align: top;\n",
       "    }\n",
       "\n",
       "    .dataframe thead th {\n",
       "        text-align: right;\n",
       "    }\n",
       "</style>\n",
       "<table border=\"1\" class=\"dataframe\">\n",
       "  <thead>\n",
       "    <tr style=\"text-align: right;\">\n",
       "      <th></th>\n",
       "      <th>actual</th>\n",
       "      <th>predicted</th>\n",
       "    </tr>\n",
       "  </thead>\n",
       "  <tbody>\n",
       "    <tr>\n",
       "      <td>7706</td>\n",
       "      <td>was his story true</td>\n",
       "      <td>was his last true</td>\n",
       "    </tr>\n",
       "    <tr>\n",
       "      <td>14691</td>\n",
       "      <td>it rained heavily</td>\n",
       "      <td>the is off</td>\n",
       "    </tr>\n",
       "    <tr>\n",
       "      <td>12594</td>\n",
       "      <td>she kicked the door</td>\n",
       "      <td>the is the door</td>\n",
       "    </tr>\n",
       "    <tr>\n",
       "      <td>8719</td>\n",
       "      <td>we have to stop</td>\n",
       "      <td>we have to stop</td>\n",
       "    </tr>\n",
       "    <tr>\n",
       "      <td>7565</td>\n",
       "      <td>my sister got engaged</td>\n",
       "      <td>my wife is stolen</td>\n",
       "    </tr>\n",
       "    <tr>\n",
       "      <td>8732</td>\n",
       "      <td>hows the apple</td>\n",
       "      <td>how the gate</td>\n",
       "    </tr>\n",
       "    <tr>\n",
       "      <td>7574</td>\n",
       "      <td>she looks happy</td>\n",
       "      <td>she looks happy</td>\n",
       "    </tr>\n",
       "    <tr>\n",
       "      <td>1886</td>\n",
       "      <td>they were not pleased</td>\n",
       "      <td>they didnt not fired</td>\n",
       "    </tr>\n",
       "    <tr>\n",
       "      <td>1353</td>\n",
       "      <td>he pushed me gently</td>\n",
       "      <td>he ran at</td>\n",
       "    </tr>\n",
       "    <tr>\n",
       "      <td>15460</td>\n",
       "      <td>i accept your terms</td>\n",
       "      <td>i like you own</td>\n",
       "    </tr>\n",
       "  </tbody>\n",
       "</table>\n",
       "</div>"
      ],
      "text/plain": [
       "                      actual             predicted\n",
       "7706      was his story true     was his last true\n",
       "14691      it rained heavily            the is off\n",
       "12594    she kicked the door       the is the door\n",
       "8719         we have to stop       we have to stop\n",
       "7565   my sister got engaged     my wife is stolen\n",
       "8732          hows the apple          how the gate\n",
       "7574         she looks happy       she looks happy\n",
       "1886   they were not pleased  they didnt not fired\n",
       "1353     he pushed me gently             he ran at\n",
       "15460    i accept your terms        i like you own"
      ]
     },
     "execution_count": 137,
     "metadata": {},
     "output_type": "execute_result"
    }
   ],
   "source": [
    "actual = convert_int2word(test_decoder_output)\n",
    "predicted = convert_int2word(np.argmax(predictions, axis = 2))\n",
    "\n",
    "pred_df = pd.DataFrame({'actual' : actual,\n",
    "                        'predicted' : predicted})\n",
    "pred_df.sample(10)"
   ]
  },
  {
   "cell_type": "code",
   "execution_count": 25,
   "metadata": {},
   "outputs": [
    {
     "data": {
      "image/png": "[encoded data removed]",
      "text/plain": [
       "<Figure size 432x288 with 1 Axes>"
      ]
     },
     "metadata": {
      "needs_background": "light"
     },
     "output_type": "display_data"
    }
   ],
   "source": [
    "plt.plot(history.history['loss'])\n",
    "plt.plot(history.history['val_loss'])\n",
    "plt.legend(['train','validation'])\n",
    "plt.show()"
   ]
  },
  {
   "cell_type": "code",
   "execution_count": 26,
   "metadata": {},
   "outputs": [
    {
     "name": "stdout",
     "output_type": "stream",
     "text": [
      "BLEU-1: 0.524960\n",
      "BLEU-2: 0.000000\n",
      "BLEU-3: 0.000000\n",
      "BLEU-4: 0.000000\n"
     ]
    }
   ],
   "source": [
    "from nltk.translate.bleu_score import corpus_bleu\n",
    "\n",
    "actual = convert_int2word(y_test)\n",
    "# actual = [line.split() for line in actual]\n",
    "predicted = convert_int2word(np.argmax(preds, axis = 2))\n",
    "# predicted = [line.split() for line in predicted]\n",
    "\n",
    "# calculate BLEU score\n",
    "print('BLEU-1: %f' % corpus_bleu(actual, predicted, weights=(1.0, 0, 0, 0)))\n",
    "print('BLEU-2: %f' % corpus_bleu(actual, predicted, weights=(0.5, 0.5, 0, 0)))\n",
    "print('BLEU-3: %f' % corpus_bleu(actual, predicted, weights=(0.3, 0.3, 0.3, 0)))\n",
    "print('BLEU-4: %f' % corpus_bleu(actual, predicted, weights=(0.25, 0.25, 0.25, 0.25)))"
   ]
  },
  {
   "cell_type": "markdown",
   "metadata": {},
   "source": [
    "## Miscellaneous: Ideas to try out to get an improved Accuracy !!\n",
    "This section lists some ideas that you may wish to explore.\n",
    "\n",
    "- <b>Data Cleaning: </b> Different data cleaning operations could be performed on the data, such as not removing punctuation or normalizing case, or perhaps removing duplicate English phrases.\n",
    "- <b>Vocabulary: </b> The vocabulary could be refined, perhaps removing words used less than 5 or 10 times in the dataset and replaced with “unk“.\n",
    "- <b>More Data: </b> The dataset used to fit the model could be expanded to 50,000, 100,000 phrases, or more.\n",
    "- <b>Input Order: </b> The order of input phrases could be reversed, which has been reported to lift skill, or a Bidirectional input layer could be used.\n",
    "- <b>Layers: </b> The encoder and/or the decoder models could be expanded with additional layers and trained for more epochs, providing more representational capacity for the model.\n",
    "- <b>Units: </b> The number of memory units in the encoder and decoder could be increased, providing more representational capacity for the model.\n",
    "- <b>Regularization: </b> The model could use regularization, such as weight or activation regularization, or the use of dropout on the LSTM layers.\n",
    "- <b>Pre-Trained Word Vectors: </b> Pre-trained word vectors could be used in the model.\n",
    "- <b>Recursive Model: </b> A recursive formulation of the model could be used where the next word in the output sequence could be conditional on the input sequence and the output sequence generated so far (this is a method other than Teacher Forcing).\n",
    "\n",
    "<b>Hyperparameter tuning, Attention, etc.:</b> [How to Configure an Encoder-Decoder Model for Neural Machine Translation](https://machinelearningmastery.com/configure-encoder-decoder-model-neural-machine-translation/)"
   ]
  },
  {
   "cell_type": "code",
   "execution_count": null,
   "metadata": {},
   "outputs": [],
   "source": [
    "# when [a] + b vs [a,b]\n",
    "\n",
    "# The differentiation is that it considers all the hidden states of both the encoder LSTM and decoder LSTM to calculate a \n",
    "# “variable-length context vector ct, whereas Bahdanau et al. used the previous hidden state of the unidirectional decoder LSTM\n",
    "# and all the hidden states of the encoder LSTM to calculate the context vector.\n",
    "\n",
    "# what does masking mean (Attention)?\n",
    "\n",
    "# Bleu score and attention weights visualisation - check if you got correct output !!!!!!!!!!!!!!!!!!!!!!!\n",
    "# use the output of previous layer as input to decoder - maybe if you do this your model perfomance may decrease drastically\n",
    "# and it somehow relates to the weirdness if the attention weights\n",
    "\n",
    "# Transformers ??????? - has better results and faster (if u have gpu)\n",
    "# BERT\n",
    "# use BRNN\n",
    "# Tensorboard usage.....\n",
    "\n",
    "# setting random state - same weight initialisation everytime - model training?"
   ]
  },
  {
   "cell_type": "code",
   "execution_count": null,
   "metadata": {},
   "outputs": [],
   "source": [
    "# decrease embedding and no of hidden units to 256 maybe..."
   ]
  }
 ],
 "metadata": {
  "kernelspec": {
   "display_name": "Python 3",
   "language": "python",
   "name": "python3"
  },
  "language_info": {
   "codemirror_mode": {
    "name": "ipython",
    "version": 3
   },
   "file_extension": ".py",
   "mimetype": "text/x-python",
   "name": "python",
   "nbconvert_exporter": "python",
   "pygments_lexer": "ipython3",
   "version": "3.7.4"
  }
 },
 "nbformat": 4,
 "nbformat_minor": 2
}
