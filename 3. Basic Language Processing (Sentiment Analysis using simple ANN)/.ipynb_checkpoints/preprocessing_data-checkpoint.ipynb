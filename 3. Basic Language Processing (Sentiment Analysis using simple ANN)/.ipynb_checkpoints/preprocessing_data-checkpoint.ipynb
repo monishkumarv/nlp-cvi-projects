{
 "cells": [
  {
   "cell_type": "markdown",
   "metadata": {},
   "source": [
    "### Reference\n",
    "https://pythonprogramming.net/preprocessing-tensorflow-deep-learning-tutorial/"
   ]
  },
  {
   "cell_type": "code",
   "execution_count": 6,
   "metadata": {},
   "outputs": [],
   "source": [
    "import nltk\n",
    "from nltk.tokenize import word_tokenize\n",
    "from nltk.stem import WordNetLemmatizer\n",
    "import random  # used to shuffle data\n",
    "import pickle  # used to save data..i guess\n",
    "from collections import Counter\n",
    "\n",
    "import pandas as pd\n",
    "import numpy as np"
   ]
  },
  {
   "cell_type": "code",
   "execution_count": 7,
   "metadata": {},
   "outputs": [],
   "source": [
    "# go to tokenizers folder and check whether you can find the funtions that you are using\n",
    "# what is an environment variable?\n",
    "# What does the if __name__ == “__main__”: do? - geekforgeeks\n",
    "# Understanding Python Pickling with example - geekforgeeks\n",
    "\n",
    "# Write Notes.."
   ]
  },
  {
   "cell_type": "code",
   "execution_count": 8,
   "metadata": {},
   "outputs": [],
   "source": [
    "lemmatizer = WordNetLemmatizer()\n",
    "no_lines = 10000000\n",
    "pos_data_path = r\"C:\\Users\\Monish Kumar\\Python projects\\Basic Language Processing\\nltk_input_data\\pos.txt\"\n",
    "neg_data_path = r\"C:\\Users\\Monish Kumar\\Python projects\\Basic Language Processing\\nltk_input_data\\neg.txt\""
   ]
  },
  {
   "cell_type": "code",
   "execution_count": 9,
   "metadata": {},
   "outputs": [],
   "source": [
    "lexicon = []  # creating a dictionary of words present in input data...later uesd as for x_train...[1,0,0,1,0,1]\n",
    "\n",
    "with open(pos_data_path,'r') as ifile:\n",
    "    contents = ifile.readlines()    # reads line by line while .read() reads the whole document at the same time...check!\n",
    "    for i in contents:\n",
    "        x = word_tokenize(i)\n",
    "        lexicon += list(x)\n",
    "        \n",
    "with open(neg_data_path,'r') as ifile:\n",
    "    contents = ifile.readlines()\n",
    "    for i in contents:\n",
    "        x = word_tokenize(i)\n",
    "        lexicon += list(x)"
   ]
  },
  {
   "cell_type": "code",
   "execution_count": 10,
   "metadata": {},
   "outputs": [
    {
     "name": "stdout",
     "output_type": "stream",
     "text": [
      "Length of features to be used for training = 423\n"
     ]
    }
   ],
   "source": [
    "# Lemmatization\n",
    "lexicon = [lemmatizer.lemmatize(i) for i in lexicon]\n",
    "word_count = Counter(lexicon)\n",
    "#print(word_count)\n",
    "\n",
    "updated_lexicons = []\n",
    "\n",
    "for i in word_count:\n",
    "    if 50<word_count[i]<1000:  # words with more than 1000 repetition are mostly stopwords i.e,'a','the','is' etc...\n",
    "        updated_lexicons.append(i)\n",
    "print('Length of features to be used for training =',len(updated_lexicons))\n"
   ]
  },
  {
   "cell_type": "code",
   "execution_count": 11,
   "metadata": {},
   "outputs": [],
   "source": [
    "def sample_handling(sample,lexicon,classification):\n",
    "    \n",
    "    featureset = []\n",
    "    with open(pos_data_path,'r') as ifile:\n",
    "        contents = ifile.readlines()\n",
    "        for line in contents:\n",
    "            current_words = word_tokenize(line.lower())\n",
    "            current_words = [lemmatizer.lemmatize(i) for i in current_words]\n",
    "            features = np.zeros(len(lexicon))\n",
    "            \n",
    "            for word in current_words:\n",
    "                if word.lower() in lexicon:\n",
    "                    index_value = lexicon.index(word.lower()) # getting the position the word in lexicon\n",
    "                    features[index_value] += 1\n",
    "\n",
    "            features = list(features)\n",
    "            featureset.append([features,classification])\n",
    "\n",
    "    return featureset\n",
    "    "
   ]
  },
  {
   "cell_type": "code",
   "execution_count": 12,
   "metadata": {},
   "outputs": [],
   "source": [
    "features = []\n",
    "features += sample_handling('pos.txt',updated_lexicons,[1,0])\n",
    "features += sample_handling('neg.txt',updated_lexicons,[0,1])\n",
    "random.shuffle(features)\n",
    "features = np.array(features)"
   ]
  },
  {
   "cell_type": "code",
   "execution_count": 13,
   "metadata": {},
   "outputs": [],
   "source": [
    "############################################################\n",
    "test_size = 0.2\n",
    "testing_size = int(test_size*len(features))\n",
    "\n",
    "train_x = list(features[:,0][:-testing_size])\n",
    "train_y = list(features[:,1][:-testing_size])\n",
    "test_x = list(features[:,0][-testing_size:])\n",
    "test_y = list(features[:,1][-testing_size:])"
   ]
  },
  {
   "cell_type": "code",
   "execution_count": 14,
   "metadata": {},
   "outputs": [],
   "source": [
    "###########################################################\n",
    "# if you want to pickle this data:\n",
    "path = r\"C:\\Users\\Monish Kumar\\Python projects\\Basic Language Processing\\nltk_input_data\\sentiment_train_test_file.txt\"\n",
    "with open(path,'wb') as ifile:\n",
    "    pickle.dump([train_x,train_y,test_x,test_y],ifile)"
   ]
  },
  {
   "cell_type": "code",
   "execution_count": 15,
   "metadata": {},
   "outputs": [],
   "source": [
    "x_train = pd.DataFrame(train_x)\n",
    "y_train = pd.DataFrame(train_y,columns=['pos','neg'])\n",
    "train_data = pd.concat([x_train,y_train],axis=1)\n",
    "\n",
    "x_test = pd.DataFrame(test_x)\n",
    "y_test = pd.DataFrame(test_y,columns=['pos','neg'])\n",
    "test_data = pd.concat([x_test,y_test],axis=1)"
   ]
  },
  {
   "cell_type": "code",
   "execution_count": 16,
   "metadata": {},
   "outputs": [],
   "source": [
    "# Saving data\n",
    "path = r\"C:\\Users\\Monish Kumar\\Python projects\\Basic Language Processing\\nltk_input_data\\train_data.csv\"\n",
    "train_data.to_csv(path)\n",
    "path = r\"C:\\Users\\Monish Kumar\\Python projects\\Basic Language Processing\\nltk_input_data\\test_data.csv\"\n",
    "test_data.to_csv(path)"
   ]
  },
  {
   "cell_type": "code",
   "execution_count": 17,
   "metadata": {},
   "outputs": [],
   "source": [
    "path = r\"C:\\Users\\Monish Kumar\\Python projects\\Basic Language Processing\\nltk_input_data\\lexicon_data.csv\"\n",
    "pd.DataFrame(updated_lexicons).to_csv(path,index_label=None)"
   ]
  },
  {
   "cell_type": "code",
   "execution_count": null,
   "metadata": {},
   "outputs": [],
   "source": []
  }
 ],
 "metadata": {
  "kernelspec": {
   "display_name": "Python 3",
   "language": "python",
   "name": "python3"
  },
  "language_info": {
   "codemirror_mode": {
    "name": "ipython",
    "version": 3
   },
   "file_extension": ".py",
   "mimetype": "text/x-python",
   "name": "python",
   "nbconvert_exporter": "python",
   "pygments_lexer": "ipython3",
   "version": "3.7.4"
  }
 },
 "nbformat": 4,
 "nbformat_minor": 2
}
